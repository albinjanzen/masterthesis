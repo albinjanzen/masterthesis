{
 "cells": [
  {
   "attachments": {},
   "cell_type": "markdown",
   "metadata": {},
   "source": [
    "# Batch analysis \n",
    "\n"
   ]
  },
  {
   "cell_type": "code",
   "execution_count": 1,
   "metadata": {},
   "outputs": [
    {
     "name": "stderr",
     "output_type": "stream",
     "text": [
      "2023-02-28 08:16:27.562221: I tensorflow/core/platform/cpu_feature_guard.cc:193] This TensorFlow binary is optimized with oneAPI Deep Neural Network Library (oneDNN) to use the following CPU instructions in performance-critical operations:  AVX2 AVX512F AVX512_VNNI FMA\n",
      "To enable them in other operations, rebuild TensorFlow with the appropriate compiler flags.\n",
      "2023-02-28 08:16:29.019326: I tensorflow/core/util/port.cc:104] oneDNN custom operations are on. You may see slightly different numerical results due to floating-point round-off errors from different computation orders. To turn them off, set the environment variable `TF_ENABLE_ONEDNN_OPTS=0`.\n",
      "2023-02-28 08:16:29.369318: W tensorflow/compiler/xla/stream_executor/platform/default/dso_loader.cc:64] Could not load dynamic library 'libcudart.so.11.0'; dlerror: libcudart.so.11.0: cannot open shared object file: No such file or directory; LD_LIBRARY_PATH: /opt/thinlinc/lib64:/opt/thinlinc/lib\n",
      "2023-02-28 08:16:29.369382: I tensorflow/compiler/xla/stream_executor/cuda/cudart_stub.cc:29] Ignore above cudart dlerror if you do not have a GPU set up on your machine.\n",
      "2023-02-28 08:16:35.484663: W tensorflow/compiler/xla/stream_executor/platform/default/dso_loader.cc:64] Could not load dynamic library 'libnvinfer.so.7'; dlerror: libnvinfer.so.7: cannot open shared object file: No such file or directory; LD_LIBRARY_PATH: /opt/thinlinc/lib64:/opt/thinlinc/lib\n",
      "2023-02-28 08:16:35.485409: W tensorflow/compiler/xla/stream_executor/platform/default/dso_loader.cc:64] Could not load dynamic library 'libnvinfer_plugin.so.7'; dlerror: libnvinfer_plugin.so.7: cannot open shared object file: No such file or directory; LD_LIBRARY_PATH: /opt/thinlinc/lib64:/opt/thinlinc/lib\n",
      "2023-02-28 08:16:35.485436: W tensorflow/compiler/tf2tensorrt/utils/py_utils.cc:38] TF-TRT Warning: Cannot dlopen some TensorRT libraries. If you would like to use Nvidia GPU with TensorRT, please make sure the missing libraries mentioned above are installed properly.\n",
      "/tmp/ipykernel_95573/632473654.py:14: DtypeWarning: Columns (6) have mixed types. Specify dtype option on import or set low_memory=False.\n",
      "  og_df = pd.read_csv('data/Structured/all_data.csv')\n"
     ]
    }
   ],
   "source": [
    "import pandas as pd\n",
    "import numpy as np\n",
    "from sklearn.preprocessing import MinMaxScaler\n",
    "import tensorflow as tf\n",
    "import matplotlib.pyplot as plt\n",
    "import IPython\n",
    "import IPython.display\n",
    "#import shap\n",
    "from tqdm.notebook import tqdm\n",
    "\n",
    "tf.random.set_seed(1234)\n",
    "\n",
    "# Load the dataset from CSV file\n",
    "og_df = pd.read_csv('data/Structured/all_data.csv')"
   ]
  },
  {
   "cell_type": "code",
   "execution_count": 2,
   "metadata": {},
   "outputs": [
    {
     "name": "stderr",
     "output_type": "stream",
     "text": [
      "/tmp/ipykernel_95573/203948321.py:2: SettingWithCopyWarning: \n",
      "A value is trying to be set on a copy of a slice from a DataFrame\n",
      "\n",
      "See the caveats in the documentation: https://pandas.pydata.org/pandas-docs/stable/user_guide/indexing.html#returning-a-view-versus-a-copy\n",
      "  df.drop(['Summa gas/Diesel'], axis=1, inplace=True)\n",
      "/tmp/ipykernel_95573/203948321.py:11: PerformanceWarning: DataFrame is highly fragmented.  This is usually the result of calling `frame.insert` many times, which has poor performance.  Consider joining all columns at once using pd.concat(axis=1) instead. To get a de-fragmented frame, use `newframe = frame.copy()`\n",
      "  df.insert(1, 'SE1', first_column)\n"
     ]
    },
    {
     "name": "stdout",
     "output_type": "stream",
     "text": [
      "(202878, 470)\n",
      "469\n"
     ]
    }
   ],
   "source": [
    "df = og_df.dropna(axis=1, how='all')\n",
    "df.drop(['Summa gas/Diesel'], axis=1, inplace=True)\n",
    "\n",
    "df = df.fillna(method='ffill')\n",
    "df = df.fillna(method='bfill')\n",
    "for e in df.columns:\n",
    "    if df[e].nunique() == 1:\n",
    "        df = df.drop(e, axis=1)\n",
    "  \n",
    "first_column = df.pop('SE1')\n",
    "df.insert(1, 'SE1', first_column)\n",
    "\n",
    "test_end = df[df['Date'] == '2018-01-01 23:00:00'].index.values[0]\n",
    "dates = df.pop('Date')\n",
    "# df = df.iloc[:,0:5]\n",
    "print(df.shape)\n",
    "\n",
    "n_features = df.shape[1]-1\n",
    "print(n_features)\n",
    "\n",
    "# Normalize the features using MinMaxScaler\n",
    "scaler = MinMaxScaler()\n",
    "df[df.columns] = scaler.fit_transform(df[df.columns])"
   ]
  },
  {
   "cell_type": "code",
   "execution_count": 3,
   "metadata": {},
   "outputs": [
    {
     "data": {
      "text/plain": [
       "<matplotlib.legend.Legend at 0x7f6d9e889b80>"
      ]
     },
     "execution_count": 3,
     "metadata": {},
     "output_type": "execute_result"
    },
    {
     "data": {
      "image/png": "[encoded data removed]",
      "text/plain": [
       "<Figure size 640x480 with 1 Axes>"
      ]
     },
     "metadata": {},
     "output_type": "display_data"
    }
   ],
   "source": [
    "y = df['SE1']\n",
    "\n",
    "plt.plot(y, color='#6db1ff', label='SE1')\n",
    "plt.legend()"
   ]
  },
  {
   "cell_type": "code",
   "execution_count": 4,
   "metadata": {},
   "outputs": [
    {
     "name": "stdout",
     "output_type": "stream",
     "text": [
      "(172448, 470)\n",
      "(20287, 470)\n",
      "(10143, 470)\n"
     ]
    }
   ],
   "source": [
    "\n",
    "# Split the dataset into training and testing sets\n",
    "test_size = int(len(df) * 0.05)\n",
    "val_size = int(len(df) * 0.1)\n",
    "val_end = test_end - test_size\n",
    "\n",
    "train_df = df[:val_end-val_size]\n",
    "val_df = df[val_end-val_size:val_end]\n",
    "test_df = df[test_end-test_size:test_end]\n",
    "train_df = pd.concat([train_df, df[test_end:]])\n",
    "\n",
    "print(train_df.shape)\n",
    "print(val_df.shape)\n",
    "print(test_df.shape)"
   ]
  },
  {
   "cell_type": "code",
   "execution_count": 5,
   "metadata": {},
   "outputs": [
    {
     "name": "stdout",
     "output_type": "stream",
     "text": [
      "(172448,)\n"
     ]
    }
   ],
   "source": [
    "\n",
    "train_df = train_df.to_numpy()\n",
    "# print(train_df.shape)\n",
    "val_df = val_df.to_numpy()\n",
    "test_df = test_df.to_numpy()\n",
    "X_train = np.reshape(train_df[:,1:], (train_df.shape[0], 1, train_df.shape[1]-1))\n",
    "y_train = train_df[:,0]\n",
    "print(y_train.shape)\n",
    "X_val = np.reshape(val_df[:,1:], (val_df.shape[0], 1, val_df.shape[1]-1))\n",
    "y_val = val_df[:,0]\n",
    "X_test = np.reshape(test_df[:,1:], (test_df.shape[0], 1, test_df.shape[1]-1))\n",
    "y_test = test_df[:,0]\n",
    "# X_train = np.array(train_df.iloc[:,1:])\n",
    "# y_train = np.array(train_df.iloc[:,0])\n",
    "# X_val = np.array(val_df.iloc[:,1:])\n",
    "# y_val = np.array(val_df.iloc[:,0])\n",
    "# X_test = np.array(test_df.iloc[:,1:])\n",
    "# y_test = np.array(test_df.iloc[:,0])\n",
    "# sequence_length = 1\n",
    "# print(X_train.shape)\n",
    "# print(y_train.shape)\n",
    "# print(X_val.shape)\n",
    "# print(y_val.shape)\n",
    "# print(X_test.shape)\n",
    "# print(y_test.shape)\n",
    "# # Define the sequence length for the LSTM model\n",
    "# sequence_length = 10\n",
    "\n",
    "# def create_sequences(df, sequence_length):\n",
    "#     X = []\n",
    "#     y = []\n",
    "#     for i in range(len(df) - sequence_length):\n",
    "#         X.append(df.iloc[i:i+sequence_length, 1:].values)\n",
    "#         y.append(df.iloc[i+sequence_length, 0])\n",
    "#     return np.array(X), np.array(y)\n",
    "\n",
    "\n",
    "# X_train, y_train = create_sequences(train_df, sequence_length)\n",
    "# X_val, y_val = create_sequences(val_df, sequence_length)\n",
    "# X_test, y_test = create_sequences(test_df, sequence_length)\n",
    "# print(X_train.shape)\n",
    "# print(X_val.shape)\n",
    "# print(X_test.shape)"
   ]
  },
  {
   "cell_type": "code",
   "execution_count": 6,
   "metadata": {},
   "outputs": [
    {
     "name": "stdout",
     "output_type": "stream",
     "text": [
      "(172448, 1, 469)\n",
      "(172416, 1, 469)\n",
      "(172416,)\n"
     ]
    }
   ],
   "source": [
    "batch_size = 128\n",
    "print(X_train.shape)\n",
    "# Calculate the number of samples that are evenly divisible by batch_size\n",
    "num_samples_train = X_train.shape[0] // batch_size * batch_size\n",
    "num_samples_val = X_val.shape[0] // batch_size * batch_size\n",
    "num_samples_test = X_test.shape[0] // batch_size * batch_size\n",
    "\n",
    "# Reshape the input data to have a shape that is evenly divisible by batch_size\n",
    "X_train = X_train[:num_samples_train]\n",
    "y_train = y_train[:num_samples_train]\n",
    "X_val = X_val[:num_samples_val]\n",
    "y_val = y_val[:num_samples_val]\n",
    "X_test = X_test[:num_samples_test]\n",
    "y_test = y_test[:num_samples_test]\n",
    "print(X_train.shape)\n",
    "print(y_train.shape)\n",
    "# Verify that the new shape is evenly divisible by batch_size\n",
    "assert X_train.shape[0] % batch_size == 0\n",
    "assert X_val.shape[0] % batch_size == 0\n",
    "assert X_test.shape[0] % batch_size == 0"
   ]
  },
  {
   "cell_type": "code",
   "execution_count": 7,
   "metadata": {},
   "outputs": [
    {
     "name": "stdout",
     "output_type": "stream",
     "text": [
      "(172416,)\n"
     ]
    },
    {
     "data": {
      "text/plain": [
       "<matplotlib.legend.Legend at 0x7f6da0e46a30>"
      ]
     },
     "execution_count": 7,
     "metadata": {},
     "output_type": "execute_result"
    },
    {
     "data": {
      "image/png": "[encoded data removed]",
      "text/plain": [
       "<Figure size 640x480 with 1 Axes>"
      ]
     },
     "metadata": {},
     "output_type": "display_data"
    }
   ],
   "source": [
    "print(y_train.shape)\n",
    "plt.plot(np.arange(0,val_end-val_size), y_train[0:val_end-val_size], color='grey', label='train')\n",
    "plt.plot(np.arange(val_end-y_val.shape[0], val_end), y_val, color='#fc9432', label='validation')\n",
    "plt.plot(np.arange(test_end-y_test.shape[0], test_end), y_test, color='#6db1ff', label='test')\n",
    "plt.plot(np.arange(test_end,(test_end + y_train[val_end-val_size:].shape[0])), y_train[val_end-val_size:], color='grey')\n",
    "plt.legend()"
   ]
  },
  {
   "cell_type": "code",
   "execution_count": 29,
   "metadata": {},
   "outputs": [],
   "source": [
    "\n",
    "# Define the model architecture\n",
    "model = tf.keras.Sequential([\n",
    "    tf.keras.layers.LSTM(64, batch_input_shape=(batch_size, None, n_features), stateful=True),\n",
    "    tf.keras.layers.Dense(1)\n",
    "])\n",
    "\n",
    "model2 = tf.keras.Sequential([\n",
    "    tf.keras.layers.LSTM(64, input_shape=(None, n_features)),\n",
    "    tf.keras.layers.Dense(1)\n",
    "])\n",
    "\n",
    "\n",
    "\n"
   ]
  },
  {
   "cell_type": "code",
   "execution_count": 9,
   "metadata": {},
   "outputs": [],
   "source": [
    "\n",
    "class PlotLearning(tf.keras.callbacks.Callback):\n",
    "    \"\"\"\n",
    "    Callback to plot the learning curves of the model during training.\n",
    "    \"\"\"\n",
    "    def on_train_begin(self, logs={}):\n",
    "        self.metrics = {}\n",
    "        for metric in logs:\n",
    "            self.metrics[metric] = []\n",
    "            \n",
    "\n",
    "    def on_epoch_end(self, epoch, logs={}):\n",
    "        # Storing metrics\n",
    "        for metric in logs:\n",
    "            if metric in self.metrics:\n",
    "                self.metrics[metric].append(logs.get(metric))\n",
    "            else:\n",
    "                self.metrics[metric] = [logs.get(metric)]\n",
    "        \n",
    "        # Plotting\n",
    "        metrics = [x for x in logs if 'val' not in x]\n",
    "        \n",
    "        f, axs = plt.subplots(1, len(metrics), figsize=(15,5))\n",
    "        IPython.display.clear_output(wait=True)\n",
    "\n",
    "        for i, metric in enumerate(metrics):\n",
    "            axs[i].plot(range(1, epoch + 2), \n",
    "                        self.metrics[metric], \n",
    "                        label=metric, color='grey')\n",
    "            if logs['val_' + metric]:\n",
    "                axs[i].plot(range(1, epoch + 2), \n",
    "                            self.metrics['val_' + metric], \n",
    "                            label='val_' + metric, color='#6db1ff')\n",
    "                \n",
    "            axs[i].legend()\n",
    "            axs[i].grid()\n",
    "\n",
    "        plt.tight_layout()\n",
    "        plt.show()"
   ]
  },
  {
   "cell_type": "code",
   "execution_count": 25,
   "metadata": {},
   "outputs": [],
   "source": [
    "\n",
    "def compile_and_fit(model, X_train, y_train, patience=2):\n",
    "  early_stopping = tf.keras.callbacks.EarlyStopping(monitor='val_loss',\n",
    "                                                    patience=patience,\n",
    "                                                    mode='min')\n",
    "\n",
    "  model.compile(loss=tf.keras.losses.MeanSquaredError(),\n",
    "                optimizer=tf.keras.optimizers.Adam(),\n",
    "                metrics=[tf.keras.metrics.MeanAbsoluteError(), tf.keras.metrics.RootMeanSquaredError()])\n",
    "  model.reset_states()\n",
    "  # print(model.summary())\n",
    "  history = model.fit(X_train, y_train, validation_data=(X_val, y_val), epochs=10, batch_size=batch_size, verbose=1)\n",
    "  return history"
   ]
  },
  {
   "attachments": {},
   "cell_type": "markdown",
   "metadata": {},
   "source": [
    "# Baseline"
   ]
  },
  {
   "attachments": {},
   "cell_type": "markdown",
   "metadata": {},
   "source": [
    "## Train Baseline with different batch sizes"
   ]
  },
  {
   "cell_type": "code",
   "execution_count": 31,
   "metadata": {},
   "outputs": [
    {
     "name": "stdout",
     "output_type": "stream",
     "text": [
      "(172416, 1, 469)\n",
      "(172416, 1, 469)\n",
      "(172416,)\n",
      "Epoch 1/10\n",
      "1347/1347 [==============================] - 9s 6ms/step - loss: 4.2582e-05 - mean_absolute_error: 0.0026 - root_mean_squared_error: 0.0065 - val_loss: 3.1343e-05 - val_mean_absolute_error: 0.0044 - val_root_mean_squared_error: 0.0056\n",
      "Epoch 2/10\n",
      "1347/1347 [==============================] - 8s 6ms/step - loss: 8.7759e-06 - mean_absolute_error: 0.0019 - root_mean_squared_error: 0.0030 - val_loss: 3.7923e-05 - val_mean_absolute_error: 0.0048 - val_root_mean_squared_error: 0.0062\n",
      "Epoch 3/10\n",
      "1347/1347 [==============================] - 8s 6ms/step - loss: 8.8153e-06 - mean_absolute_error: 0.0020 - root_mean_squared_error: 0.0030 - val_loss: 2.7998e-05 - val_mean_absolute_error: 0.0043 - val_root_mean_squared_error: 0.0053\n",
      "Epoch 4/10\n",
      "1347/1347 [==============================] - 7s 5ms/step - loss: 8.8330e-06 - mean_absolute_error: 0.0020 - root_mean_squared_error: 0.0030 - val_loss: 3.5938e-05 - val_mean_absolute_error: 0.0047 - val_root_mean_squared_error: 0.0060\n",
      "Epoch 5/10\n",
      "1347/1347 [==============================] - 7s 6ms/step - loss: 8.4008e-06 - mean_absolute_error: 0.0020 - root_mean_squared_error: 0.0029 - val_loss: 2.0139e-05 - val_mean_absolute_error: 0.0037 - val_root_mean_squared_error: 0.0045\n",
      "Epoch 6/10\n",
      "1347/1347 [==============================] - 7s 5ms/step - loss: 7.6409e-06 - mean_absolute_error: 0.0019 - root_mean_squared_error: 0.0028 - val_loss: 1.9945e-05 - val_mean_absolute_error: 0.0037 - val_root_mean_squared_error: 0.0045\n",
      "Epoch 7/10\n",
      "1347/1347 [==============================] - 8s 6ms/step - loss: 7.0492e-06 - mean_absolute_error: 0.0018 - root_mean_squared_error: 0.0027 - val_loss: 3.2277e-05 - val_mean_absolute_error: 0.0045 - val_root_mean_squared_error: 0.0057\n",
      "Epoch 8/10\n",
      "1347/1347 [==============================] - 9s 6ms/step - loss: 6.7843e-06 - mean_absolute_error: 0.0018 - root_mean_squared_error: 0.0026 - val_loss: 3.5842e-05 - val_mean_absolute_error: 0.0048 - val_root_mean_squared_error: 0.0060\n",
      "Epoch 9/10\n",
      "1347/1347 [==============================] - 8s 6ms/step - loss: 6.3124e-06 - mean_absolute_error: 0.0017 - root_mean_squared_error: 0.0025 - val_loss: 5.8101e-05 - val_mean_absolute_error: 0.0065 - val_root_mean_squared_error: 0.0076\n",
      "Epoch 10/10\n",
      "1347/1347 [==============================] - 8s 6ms/step - loss: 5.4647e-06 - mean_absolute_error: 0.0016 - root_mean_squared_error: 0.0023 - val_loss: 1.6114e-05 - val_mean_absolute_error: 0.0033 - val_root_mean_squared_error: 0.0040\n",
      "158/158 [==============================] - 2s 3ms/step\n"
     ]
    }
   ],
   "source": [
    "# Set batch size to 128 and rerun sample calculations\n",
    "batch_size = 128\n",
    "print(X_train.shape)\n",
    "# Calculate the number of samples that are evenly divisible by batch_size\n",
    "num_samples_train = X_train.shape[0] // batch_size * batch_size\n",
    "num_samples_val = X_val.shape[0] // batch_size * batch_size\n",
    "num_samples_test = X_test.shape[0] // batch_size * batch_size\n",
    "\n",
    "# Reshape the input data to have a shape that is evenly divisible by batch_size\n",
    "X_train = X_train[:num_samples_train]\n",
    "y_train = y_train[:num_samples_train]\n",
    "X_val = X_val[:num_samples_val]\n",
    "y_val = y_val[:num_samples_val]\n",
    "X_test = X_test[:num_samples_test]\n",
    "y_test = y_test[:num_samples_test]\n",
    "print(X_train.shape)\n",
    "print(y_train.shape)\n",
    "# Verify that the new shape is evenly divisible by batch_size\n",
    "assert X_train.shape[0] % batch_size == 0\n",
    "assert X_val.shape[0] % batch_size == 0\n",
    "assert X_test.shape[0] % batch_size == 0\n",
    "history3 = compile_and_fit(model, X_train, y_train)\n",
    "result3 = model.predict(X_val, batch_size=batch_size)\n"
   ]
  },
  {
   "cell_type": "code",
   "execution_count": 11,
   "metadata": {},
   "outputs": [
    {
     "name": "stdout",
     "output_type": "stream",
     "text": [
      "Epoch 1/3\n",
      "1347/1347 [==============================] - 10s 6ms/step - loss: 0.0059 - mean_absolute_error: 0.0247 - root_mean_squared_error: 0.0770 - val_loss: 0.0123 - val_mean_absolute_error: 0.0974 - val_root_mean_squared_error: 0.1110\n",
      "Epoch 2/3\n",
      "1347/1347 [==============================] - 7s 5ms/step - loss: 1.2339e-04 - mean_absolute_error: 0.0067 - root_mean_squared_error: 0.0111 - val_loss: 0.0119 - val_mean_absolute_error: 0.0965 - val_root_mean_squared_error: 0.1092\n",
      "Epoch 3/3\n",
      "1347/1347 [==============================] - 7s 5ms/step - loss: 6.1363e-05 - mean_absolute_error: 0.0047 - root_mean_squared_error: 0.0078 - val_loss: 0.0053 - val_mean_absolute_error: 0.0634 - val_root_mean_squared_error: 0.0730\n",
      "(172416, 1, 469)\n",
      "(172416, 1, 469)\n",
      "(172416,)\n",
      "Epoch 1/3\n",
      "172416/172416 [==============================] - 620s 4ms/step - loss: 1.3968e-04 - mean_absolute_error: 0.0060 - root_mean_squared_error: 0.0118 - val_loss: 1.3616e-04 - val_mean_absolute_error: 0.0098 - val_root_mean_squared_error: 0.0117\n",
      "Epoch 2/3\n",
      "172416/172416 [==============================] - 631s 4ms/step - loss: 9.1070e-05 - mean_absolute_error: 0.0054 - root_mean_squared_error: 0.0095 - val_loss: 8.9810e-05 - val_mean_absolute_error: 0.0076 - val_root_mean_squared_error: 0.0095\n",
      "Epoch 3/3\n",
      "172416/172416 [==============================] - 659s 4ms/step - loss: 7.9767e-05 - mean_absolute_error: 0.0050 - root_mean_squared_error: 0.0089 - val_loss: 1.1624e-04 - val_mean_absolute_error: 0.0084 - val_root_mean_squared_error: 0.0108\n"
     ]
    }
   ],
   "source": [
    "history = compile_and_fit(model, X_train, y_train)\n",
    "\n",
    "\n",
    "# Set batch size to 128 and rerun sample calculations\n",
    "batch_size = 1\n",
    "print(X_train.shape)\n",
    "# Calculate the number of samples that are evenly divisible by batch_size\n",
    "num_samples_train = X_train.shape[0] // batch_size * batch_size\n",
    "num_samples_val = X_val.shape[0] // batch_size * batch_size\n",
    "num_samples_test = X_test.shape[0] // batch_size * batch_size\n",
    "\n",
    "# Reshape the input data to have a shape that is evenly divisible by batch_size\n",
    "X_train = X_train[:num_samples_train]\n",
    "y_train = y_train[:num_samples_train]\n",
    "X_val = X_val[:num_samples_val]\n",
    "y_val = y_val[:num_samples_val]\n",
    "X_test = X_test[:num_samples_test]\n",
    "y_test = y_test[:num_samples_test]\n",
    "print(X_train.shape)\n",
    "print(y_train.shape)\n",
    "# Verify that the new shape is evenly divisible by batch_size\n",
    "assert X_train.shape[0] % batch_size == 0\n",
    "assert X_val.shape[0] % batch_size == 0\n",
    "assert X_test.shape[0] % batch_size == 0\n",
    "\n",
    "history_128 = compile_and_fit(model2, X_train, y_train)\n",
    "\n",
    "\n"
   ]
  },
  {
   "attachments": {},
   "cell_type": "markdown",
   "metadata": {},
   "source": [
    "## Baseline result/residuals"
   ]
  },
  {
   "cell_type": "code",
   "execution_count": 23,
   "metadata": {},
   "outputs": [
    {
     "name": "stdout",
     "output_type": "stream",
     "text": [
      "20224/20224 [==============================] - 34s 2ms/step\n",
      "158/158 [==============================] - 1s 3ms/step\n"
     ]
    }
   ],
   "source": [
    "# Set batch size to 1 and rerun sample calculations\n",
    "batch_size = 1\n",
    "\n",
    "# Calculate the number of samples that are evenly divisible by batch_size\n",
    "num_samples_train = X_train.shape[0] // batch_size * batch_size\n",
    "num_samples_val = X_val.shape[0] // batch_size * batch_size\n",
    "num_samples_test = X_test.shape[0] // batch_size * batch_size\n",
    "\n",
    "# Reshape the input data to have a shape that is evenly divisible by batch_size\n",
    "X_train = X_train[:num_samples_train]\n",
    "y_train = y_train[:num_samples_train]\n",
    "X_val = X_val[:num_samples_val]\n",
    "y_val = y_val[:num_samples_val]\n",
    "X_test = X_test[:num_samples_test]\n",
    "y_test = y_test[:num_samples_test]\n",
    "\n",
    "# Verify that the new shape is evenly divisible by batch_size\n",
    "assert X_train.shape[0] % batch_size == 0\n",
    "assert X_val.shape[0] % batch_size == 0\n",
    "assert X_test.shape[0] % batch_size == 0\n",
    "result = model2.predict(X_val, batch_size=batch_size)\n",
    "\n",
    "\n",
    "# Set batch size to 128 and rerun sample calculations\n",
    "batch_size = 128\n",
    "\n",
    "# Calculate the number of samples that are evenly divisible by batch_size\n",
    "num_samples_train = X_train.shape[0] // batch_size * batch_size\n",
    "num_samples_val = X_val.shape[0] // batch_size * batch_size\n",
    "num_samples_test = X_test.shape[0] // batch_size * batch_size\n",
    "\n",
    "# Reshape the input data to have a shape that is evenly divisible by batch_size\n",
    "X_train = X_train[:num_samples_train]\n",
    "y_train = y_train[:num_samples_train]\n",
    "X_val = X_val[:num_samples_val]\n",
    "y_val = y_val[:num_samples_val]\n",
    "X_test = X_test[:num_samples_test]\n",
    "y_test = y_test[:num_samples_test]\n",
    "# Verify that the new shape is evenly divisible by batch_size\n",
    "assert X_train.shape[0] % batch_size == 0\n",
    "assert X_val.shape[0] % batch_size == 0\n",
    "assert X_test.shape[0] % batch_size == 0\n",
    "result2 = model.predict(X_val, batch_size=batch_size)"
   ]
  },
  {
   "cell_type": "code",
   "execution_count": 35,
   "metadata": {},
   "outputs": [
    {
     "data": {
      "text/plain": [
       "<matplotlib.legend.Legend at 0x7f6c7896abb0>"
      ]
     },
     "execution_count": 35,
     "metadata": {},
     "output_type": "execute_result"
    },
    {
     "data": {
      "image/png": "[encoded data removed]",
      "text/plain": [
       "<Figure size 640x480 with 2 Axes>"
      ]
     },
     "metadata": {},
     "output_type": "display_data"
    }
   ],
   "source": [
    "fig, (ax1, ax2) = plt.subplots(2, 1)\n",
    "\n",
    "ax1.plot(y_val, label='Actual', color='grey')\n",
    "ax1.plot(result, label='batch size 1', color='#6db1ff')\n",
    "#residuals = abs(np.subtract(np.array(result[:,0]), np.array(y_test)))\n",
    "# residuals = y_test - result\n",
    "ax1.legend()\n",
    "ax2.plot(y_val, label='Actual', color='grey')\n",
    "ax2.plot(result3, label='batch size 128', color='orange')\n",
    "ax2.legend()\n"
   ]
  }
 ],
 "metadata": {
  "kernelspec": {
   "display_name": "exjobb",
   "language": "python",
   "name": "python3"
  },
  "language_info": {
   "codemirror_mode": {
    "name": "ipython",
    "version": 3
   },
   "file_extension": ".py",
   "mimetype": "text/x-python",
   "name": "python",
   "nbconvert_exporter": "python",
   "pygments_lexer": "ipython3",
   "version": "3.8.10 (default, Nov 14 2022, 12:59:47) \n[GCC 9.4.0]"
  },
  "orig_nbformat": 4,
  "vscode": {
   "interpreter": {
    "hash": "66860bcdae800019614647ef43d356c72aa8981378540b181526de0887a4e502"
   }
  }
 },
 "nbformat": 4,
 "nbformat_minor": 2
}
