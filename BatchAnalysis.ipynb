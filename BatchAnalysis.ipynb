{
 "cells": [
  {
   "attachments": {},
   "cell_type": "markdown",
   "metadata": {},
   "source": [
    "# Batch analysis \n",
    "\n"
   ]
  },
  {
   "cell_type": "code",
   "execution_count": null,
   "metadata": {},
   "outputs": [],
   "source": [
    "import pandas as pd\n",
    "import numpy as np\n",
    "from sklearn.preprocessing import MinMaxScaler\n",
    "import tensorflow as tf\n",
    "import matplotlib.pyplot as plt\n",
    "import IPython\n",
    "import IPython.display\n",
    "#import shap\n",
    "from tqdm.notebook import tqdm\n",
    "\n",
    "tf.random.set_seed(1234)\n",
    "\n",
    "# Load the dataset from CSV file\n",
    "og_df = pd.read_csv('data/Structured/all_data.csv')"
   ]
  },
  {
   "cell_type": "code",
   "execution_count": null,
   "metadata": {},
   "outputs": [],
   "source": [
    "df = og_df.dropna(axis=1, how='all')\n",
    "df.drop(['Summa gas/Diesel'], axis=1, inplace=True)\n",
    "\n",
    "df = df.fillna(method='ffill')\n",
    "df = df.fillna(method='bfill')\n",
    "for e in df.columns:\n",
    "    if df[e].nunique() == 1:\n",
    "        df = df.drop(e, axis=1)\n",
    "  \n",
    "first_column = df.pop('SE1')\n",
    "df.insert(1, 'SE1', first_column)\n",
    "\n",
    "test_end = df[df['Date'] == '2018-01-01 23:00:00'].index.values[0]\n",
    "dates = df.pop('Date')\n",
    "# df = df.iloc[:,0:5]\n",
    "print(df.shape)\n",
    "\n",
    "n_features = df.shape[1]\n",
    "print(n_features)\n",
    "\n",
    "# Normalize the features using MinMaxScaler\n",
    "scaler = MinMaxScaler()\n",
    "df[df.columns] = scaler.fit_transform(df[df.columns])"
   ]
  },
  {
   "cell_type": "code",
   "execution_count": 3,
   "metadata": {},
   "outputs": [],
   "source": [
    "\n",
    "# Split the dataset into training and testing sets\n",
    "test_size = int(len(df) * 0.05)\n",
    "val_size = int(len(df) * 0.1)\n",
    "val_end = test_end - test_size\n",
    "\n",
    "train_df = df[:val_end-val_size]\n",
    "val_df = df[val_end-val_size:val_end]\n",
    "test_df = df[test_end-test_size:test_end]\n",
    "train_df = pd.concat([train_df, df[test_end:]])\n"
   ]
  },
  {
   "cell_type": "code",
   "execution_count": 4,
   "metadata": {},
   "outputs": [],
   "source": [
    "train_df = train_df.to_numpy()\n",
    "# print(train_df.shape)\n",
    "val_df = val_df.to_numpy()\n",
    "test_df = test_df.to_numpy()\n",
    "X_train = np.reshape(train_df, (train_df.shape[0], 1, train_df.shape[1]))\n",
    "y_train = train_df[:,0]\n",
    "\n",
    "#shift the data\n",
    "X_train = X_train[:-1]\n",
    "y_train = y_train[1:]\n",
    "\n",
    "X_val = np.reshape(val_df, (val_df.shape[0], 1, val_df.shape[1]))\n",
    "y_val = val_df[:,0]\n",
    "\n",
    "#shift the data\n",
    "X_val = X_val[:-1]\n",
    "y_val = y_val[1:]\n",
    "\n",
    "X_test = np.reshape(test_df, (test_df.shape[0], 1, test_df.shape[1]))\n",
    "y_test = test_df[:,0]\n",
    "\n",
    "#shift the data\n",
    "X_test = X_test[:-1]\n",
    "y_test = y_test[1:]\n"
   ]
  },
  {
   "cell_type": "code",
   "execution_count": 5,
   "metadata": {},
   "outputs": [],
   "source": [
    "batch_size = 128\n",
    "\n",
    "# Calculate the number of samples that are evenly divisible by batch_size\n",
    "num_samples_train = X_train.shape[0] // batch_size * batch_size\n",
    "num_samples_val = X_val.shape[0] // batch_size * batch_size\n",
    "num_samples_test = X_test.shape[0] // batch_size * batch_size\n",
    "\n",
    "# Reshape the input data to have a shape that is evenly divisible by batch_size\n",
    "X_train = X_train[:num_samples_train]\n",
    "y_train = y_train[:num_samples_train]\n",
    "X_val = X_val[:num_samples_val]\n",
    "y_val = y_val[:num_samples_val]\n",
    "X_test = X_test[:num_samples_test]\n",
    "y_test = y_test[:num_samples_test]\n",
    "\n",
    "# Verify that the new shape is evenly divisible by batch_size\n",
    "assert X_train.shape[0] % batch_size == 0\n",
    "assert X_val.shape[0] % batch_size == 0\n",
    "assert X_test.shape[0] % batch_size == 0"
   ]
  },
  {
   "cell_type": "code",
   "execution_count": 12,
   "metadata": {},
   "outputs": [],
   "source": [
    "\n",
    "# Define the model architecture\n",
    "model = tf.keras.Sequential([\n",
    "    tf.keras.layers.LSTM(64, batch_input_shape=(batch_size, None, n_features), stateful=True),\n",
    "    tf.keras.layers.Dense(1)\n",
    "])\n",
    "\n",
    "model2 = tf.keras.Sequential([\n",
    "    tf.keras.layers.LSTM(64, input_shape=(None, n_features)),\n",
    "    tf.keras.layers.Dense(1)\n",
    "])"
   ]
  },
  {
   "cell_type": "code",
   "execution_count": 7,
   "metadata": {},
   "outputs": [],
   "source": [
    "\n",
    "class PlotLearning(tf.keras.callbacks.Callback):\n",
    "    \"\"\"\n",
    "    Callback to plot the learning curves of the model during training.\n",
    "    \"\"\"\n",
    "    def on_train_begin(self, logs={}):\n",
    "        self.metrics = {}\n",
    "        for metric in logs:\n",
    "            self.metrics[metric] = []\n",
    "            \n",
    "\n",
    "    def on_epoch_end(self, epoch, logs={}):\n",
    "        # Storing metrics\n",
    "        for metric in logs:\n",
    "            if metric in self.metrics:\n",
    "                self.metrics[metric].append(logs.get(metric))\n",
    "            else:\n",
    "                self.metrics[metric] = [logs.get(metric)]\n",
    "        \n",
    "        # Plotting\n",
    "        metrics = [x for x in logs if 'val' not in x]\n",
    "        \n",
    "        f, axs = plt.subplots(1, len(metrics), figsize=(15,5))\n",
    "        IPython.display.clear_output(wait=True)\n",
    "\n",
    "        for i, metric in enumerate(metrics):\n",
    "            axs[i].plot(range(1, epoch + 2), \n",
    "                        self.metrics[metric], \n",
    "                        label=metric, color='grey')\n",
    "            if logs['val_' + metric]:\n",
    "                axs[i].plot(range(1, epoch + 2), \n",
    "                            self.metrics['val_' + metric], \n",
    "                            label='val_' + metric, color='#6db1ff')\n",
    "                \n",
    "            axs[i].legend()\n",
    "            axs[i].grid()\n",
    "\n",
    "        plt.tight_layout()\n",
    "        plt.show()"
   ]
  },
  {
   "cell_type": "code",
   "execution_count": 11,
   "metadata": {},
   "outputs": [],
   "source": [
    "\n",
    "def compile_and_fit(model, X_train, y_train, patience=2):\n",
    "  early_stopping = tf.keras.callbacks.EarlyStopping(monitor='val_loss',\n",
    "                                                    patience=patience,\n",
    "                                                    mode='min')\n",
    "\n",
    "  model.compile(loss=tf.keras.losses.MeanSquaredError(),\n",
    "                optimizer=tf.keras.optimizers.Adam(),\n",
    "                metrics=[tf.keras.metrics.MeanAbsoluteError(), tf.keras.metrics.RootMeanSquaredError()])\n",
    "  model.reset_states()\n",
    "  history = model.fit(X_train, y_train, validation_data=(X_val, y_val), epochs=3, batch_size=batch_size, verbose=1)\n",
    "  return history"
   ]
  },
  {
   "attachments": {},
   "cell_type": "markdown",
   "metadata": {},
   "source": [
    "# Baseline"
   ]
  },
  {
   "attachments": {},
   "cell_type": "markdown",
   "metadata": {},
   "source": [
    "## Training with batching and 10 epochs"
   ]
  },
  {
   "cell_type": "code",
   "execution_count": 9,
   "metadata": {},
   "outputs": [
    {
     "name": "stdout",
     "output_type": "stream",
     "text": [
      "(172416, 1, 470)\n",
      "(172416, 1, 470)\n",
      "(172416,)\n",
      "Epoch 1/10\n",
      "1347/1347 [==============================] - 11s 6ms/step - loss: 0.0033 - mean_absolute_error: 0.0212 - root_mean_squared_error: 0.0573 - val_loss: 3.5619e-04 - val_mean_absolute_error: 0.0151 - val_root_mean_squared_error: 0.0189\n",
      "Epoch 2/10\n",
      "1347/1347 [==============================] - 8s 6ms/step - loss: 1.2075e-04 - mean_absolute_error: 0.0068 - root_mean_squared_error: 0.0110 - val_loss: 4.5844e-04 - val_mean_absolute_error: 0.0185 - val_root_mean_squared_error: 0.0214\n",
      "Epoch 3/10\n",
      "1347/1347 [==============================] - 8s 6ms/step - loss: 6.3997e-05 - mean_absolute_error: 0.0048 - root_mean_squared_error: 0.0080 - val_loss: 1.6190e-04 - val_mean_absolute_error: 0.0107 - val_root_mean_squared_error: 0.0127\n",
      "Epoch 4/10\n",
      "1347/1347 [==============================] - 8s 6ms/step - loss: 5.3194e-05 - mean_absolute_error: 0.0041 - root_mean_squared_error: 0.0073 - val_loss: 6.9875e-05 - val_mean_absolute_error: 0.0069 - val_root_mean_squared_error: 0.0084\n",
      "Epoch 5/10\n",
      "1347/1347 [==============================] - 8s 6ms/step - loss: 5.8938e-05 - mean_absolute_error: 0.0045 - root_mean_squared_error: 0.0077 - val_loss: 6.0511e-05 - val_mean_absolute_error: 0.0065 - val_root_mean_squared_error: 0.0078\n",
      "Epoch 6/10\n",
      "1347/1347 [==============================] - 7s 5ms/step - loss: 4.9371e-05 - mean_absolute_error: 0.0038 - root_mean_squared_error: 0.0070 - val_loss: 2.2134e-05 - val_mean_absolute_error: 0.0035 - val_root_mean_squared_error: 0.0047\n",
      "Epoch 7/10\n",
      "1347/1347 [==============================] - 8s 6ms/step - loss: 4.7834e-05 - mean_absolute_error: 0.0038 - root_mean_squared_error: 0.0069 - val_loss: 1.5730e-05 - val_mean_absolute_error: 0.0029 - val_root_mean_squared_error: 0.0040\n",
      "Epoch 8/10\n",
      "1347/1347 [==============================] - 7s 5ms/step - loss: 4.8212e-05 - mean_absolute_error: 0.0038 - root_mean_squared_error: 0.0069 - val_loss: 1.1639e-04 - val_mean_absolute_error: 0.0101 - val_root_mean_squared_error: 0.0108\n",
      "Epoch 9/10\n",
      "1347/1347 [==============================] - 8s 6ms/step - loss: 4.4653e-05 - mean_absolute_error: 0.0034 - root_mean_squared_error: 0.0067 - val_loss: 1.9289e-05 - val_mean_absolute_error: 0.0033 - val_root_mean_squared_error: 0.0044\n",
      "Epoch 10/10\n",
      "1347/1347 [==============================] - 8s 6ms/step - loss: 4.4378e-05 - mean_absolute_error: 0.0034 - root_mean_squared_error: 0.0067 - val_loss: 3.4669e-05 - val_mean_absolute_error: 0.0049 - val_root_mean_squared_error: 0.0059\n",
      "158/158 [==============================] - 1s 2ms/step\n"
     ]
    }
   ],
   "source": [
    "# Set batch size to 128 and rerun sample calculations\n",
    "batch_size = 128\n",
    "print(X_train.shape)\n",
    "# Calculate the number of samples that are evenly divisible by batch_size\n",
    "num_samples_train = X_train.shape[0] // batch_size * batch_size\n",
    "num_samples_val = X_val.shape[0] // batch_size * batch_size\n",
    "num_samples_test = X_test.shape[0] // batch_size * batch_size\n",
    "\n",
    "# Reshape the input data to have a shape that is evenly divisible by batch_size\n",
    "X_train = X_train[:num_samples_train]\n",
    "y_train = y_train[:num_samples_train]\n",
    "X_val = X_val[:num_samples_val]\n",
    "y_val = y_val[:num_samples_val]\n",
    "X_test = X_test[:num_samples_test]\n",
    "y_test = y_test[:num_samples_test]\n",
    "print(X_train.shape)\n",
    "print(y_train.shape)\n",
    "# Verify that the new shape is evenly divisible by batch_size\n",
    "assert X_train.shape[0] % batch_size == 0\n",
    "assert X_val.shape[0] % batch_size == 0\n",
    "assert X_test.shape[0] % batch_size == 0\n",
    "history3 = compile_and_fit(model, X_train, y_train)\n",
    "result3 = model.predict(X_val, batch_size=batch_size)\n"
   ]
  },
  {
   "attachments": {},
   "cell_type": "markdown",
   "metadata": {},
   "source": [
    "## Training with and without batching, 3 epochs"
   ]
  },
  {
   "cell_type": "code",
   "execution_count": 13,
   "metadata": {},
   "outputs": [
    {
     "name": "stdout",
     "output_type": "stream",
     "text": [
      "Epoch 1/3\n",
      "1347/1347 [==============================] - 10s 6ms/step - loss: 0.0047 - mean_absolute_error: 0.0234 - root_mean_squared_error: 0.0687 - val_loss: 4.3846e-04 - val_mean_absolute_error: 0.0171 - val_root_mean_squared_error: 0.0209\n",
      "Epoch 2/3\n",
      "1347/1347 [==============================] - 7s 5ms/step - loss: 1.3463e-04 - mean_absolute_error: 0.0071 - root_mean_squared_error: 0.0116 - val_loss: 1.8608e-04 - val_mean_absolute_error: 0.0109 - val_root_mean_squared_error: 0.0136\n",
      "Epoch 3/3\n",
      "1347/1347 [==============================] - 7s 5ms/step - loss: 7.5181e-05 - mean_absolute_error: 0.0052 - root_mean_squared_error: 0.0087 - val_loss: 1.3405e-04 - val_mean_absolute_error: 0.0092 - val_root_mean_squared_error: 0.0116\n",
      "(172416, 1, 470)\n",
      "(172416, 1, 470)\n",
      "(172416,)\n",
      "Epoch 1/3\n",
      "172416/172416 [==============================] - 689s 4ms/step - loss: 1.4118e-04 - mean_absolute_error: 0.0061 - root_mean_squared_error: 0.0119 - val_loss: 1.4759e-04 - val_mean_absolute_error: 0.0107 - val_root_mean_squared_error: 0.0121\n",
      "Epoch 2/3\n",
      "172416/172416 [==============================] - 686s 4ms/step - loss: 1.0128e-04 - mean_absolute_error: 0.0055 - root_mean_squared_error: 0.0101 - val_loss: 8.7732e-05 - val_mean_absolute_error: 0.0075 - val_root_mean_squared_error: 0.0094\n",
      "Epoch 3/3\n",
      "172416/172416 [==============================] - 703s 4ms/step - loss: 9.4396e-05 - mean_absolute_error: 0.0054 - root_mean_squared_error: 0.0097 - val_loss: 6.7679e-05 - val_mean_absolute_error: 0.0064 - val_root_mean_squared_error: 0.0082\n"
     ]
    }
   ],
   "source": [
    "history = compile_and_fit(model, X_train, y_train)\n",
    "\n",
    "\n",
    "# Set batch size to 1 and rerun sample calculations\n",
    "batch_size = 1\n",
    "print(X_train.shape)\n",
    "# Calculate the number of samples that are evenly divisible by batch_size\n",
    "num_samples_train = X_train.shape[0] // batch_size * batch_size\n",
    "num_samples_val = X_val.shape[0] // batch_size * batch_size\n",
    "num_samples_test = X_test.shape[0] // batch_size * batch_size\n",
    "\n",
    "# Reshape the input data to have a shape that is evenly divisible by batch_size\n",
    "X_train = X_train[:num_samples_train]\n",
    "y_train = y_train[:num_samples_train]\n",
    "X_val = X_val[:num_samples_val]\n",
    "y_val = y_val[:num_samples_val]\n",
    "X_test = X_test[:num_samples_test]\n",
    "y_test = y_test[:num_samples_test]\n",
    "print(X_train.shape)\n",
    "print(y_train.shape)\n",
    "# Verify that the new shape is evenly divisible by batch_size\n",
    "assert X_train.shape[0] % batch_size == 0\n",
    "assert X_val.shape[0] % batch_size == 0\n",
    "assert X_test.shape[0] % batch_size == 0\n",
    "\n",
    "history_128 = compile_and_fit(model2, X_train, y_train)\n",
    "\n",
    "\n"
   ]
  },
  {
   "attachments": {},
   "cell_type": "markdown",
   "metadata": {},
   "source": [
    "## Results"
   ]
  },
  {
   "cell_type": "code",
   "execution_count": 14,
   "metadata": {},
   "outputs": [
    {
     "name": "stdout",
     "output_type": "stream",
     "text": [
      "20224/20224 [==============================] - 35s 2ms/step\n",
      "158/158 [==============================] - 1s 3ms/step\n"
     ]
    }
   ],
   "source": [
    "result = model2.predict(X_val, batch_size=batch_size)\n",
    "\n",
    "\n",
    "# Set batch size to 128 and rerun sample calculations\n",
    "batch_size = 128\n",
    "\n",
    "# Calculate the number of samples that are evenly divisible by batch_size\n",
    "num_samples_train = X_train.shape[0] // batch_size * batch_size\n",
    "num_samples_val = X_val.shape[0] // batch_size * batch_size\n",
    "num_samples_test = X_test.shape[0] // batch_size * batch_size\n",
    "\n",
    "# Reshape the input data to have a shape that is evenly divisible by batch_size\n",
    "X_train = X_train[:num_samples_train]\n",
    "y_train = y_train[:num_samples_train]\n",
    "X_val = X_val[:num_samples_val]\n",
    "y_val = y_val[:num_samples_val]\n",
    "X_test = X_test[:num_samples_test]\n",
    "y_test = y_test[:num_samples_test]\n",
    "# Verify that the new shape is evenly divisible by batch_size\n",
    "assert X_train.shape[0] % batch_size == 0\n",
    "assert X_val.shape[0] % batch_size == 0\n",
    "assert X_test.shape[0] % batch_size == 0\n",
    "result2 = model.predict(X_val, batch_size=batch_size)"
   ]
  },
  {
   "cell_type": "code",
   "execution_count": 15,
   "metadata": {},
   "outputs": [
    {
     "data": {
      "text/plain": [
       "<matplotlib.legend.Legend at 0x7f8dd4197070>"
      ]
     },
     "execution_count": 15,
     "metadata": {},
     "output_type": "execute_result"
    },
    {
     "data": {
      "image/png": "[encoded data removed]",
      "text/plain": [
       "<Figure size 640x480 with 2 Axes>"
      ]
     },
     "metadata": {},
     "output_type": "display_data"
    }
   ],
   "source": [
    "fig, (ax1, ax2) = plt.subplots(2, 1)\n",
    "\n",
    "ax1.plot(y_val, label='Actual', color='grey')\n",
    "ax1.plot(result, label='batch size 1', color='#6db1ff')\n",
    "ax1.legend()\n",
    "ax2.plot(y_val, label='Actual', color='grey')\n",
    "ax2.plot(result3, label='batch size 128', color='orange')\n",
    "ax2.legend()\n"
   ]
  }
 ],
 "metadata": {
  "kernelspec": {
   "display_name": "exjobb",
   "language": "python",
   "name": "python3"
  },
  "language_info": {
   "codemirror_mode": {
    "name": "ipython",
    "version": 3
   },
   "file_extension": ".py",
   "mimetype": "text/x-python",
   "name": "python",
   "nbconvert_exporter": "python",
   "pygments_lexer": "ipython3",
   "version": "3.8.10"
  },
  "orig_nbformat": 4,
  "vscode": {
   "interpreter": {
    "hash": "66860bcdae800019614647ef43d356c72aa8981378540b181526de0887a4e502"
   }
  }
 },
 "nbformat": 4,
 "nbformat_minor": 2
}
