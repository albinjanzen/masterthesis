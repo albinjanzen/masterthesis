{
 "cells": [
  {
   "cell_type": "code",
   "execution_count": 1,
   "metadata": {},
   "outputs": [
    {
     "name": "stderr",
     "output_type": "stream",
     "text": [
      "c:\\Users\\albin\\AppData\\Local\\Programs\\Python\\Python39\\lib\\site-packages\\tqdm\\auto.py:22: TqdmWarning: IProgress not found. Please update jupyter and ipywidgets. See https://ipywidgets.readthedocs.io/en/stable/user_install.html\n",
      "  from .autonotebook import tqdm as notebook_tqdm\n",
      "Columns (6) have mixed types.Specify dtype option on import or set low_memory=False.\n"
     ]
    }
   ],
   "source": [
    "import pandas as pd\n",
    "import numpy as np\n",
    "from sklearn.preprocessing import MinMaxScaler\n",
    "import tensorflow as tf\n",
    "import matplotlib.pyplot as plt\n",
    "import IPython\n",
    "import IPython.display\n",
    "import shap\n",
    "from tqdm.notebook import tqdm\n",
    "\n",
    "tf.random.set_seed(1234)\n",
    "tf.keras.utils.set_random_seed(1234)\n",
    "\n",
    "\n",
    "\n",
    "# Load the dataset from CSV file\n",
    "og_df = pd.read_csv('data/Structured/all_data.csv')"
   ]
  },
  {
   "cell_type": "code",
   "execution_count": 2,
   "metadata": {},
   "outputs": [
    {
     "name": "stderr",
     "output_type": "stream",
     "text": [
      "\n",
      "A value is trying to be set on a copy of a slice from a DataFrame\n",
      "\n",
      "See the caveats in the documentation: https://pandas.pydata.org/pandas-docs/stable/user_guide/indexing.html#returning-a-view-versus-a-copy\n"
     ]
    },
    {
     "name": "stdout",
     "output_type": "stream",
     "text": [
      "Index(['Gas', 'Sveriges Förbrukning MWh', 'Summa Vindkraft',\n",
      "       'Summa Vattenkraft', 'Summa kärnkraft', 'Summa Värmekraft',\n",
      "       'Summa Ospecificerat', 'Summa Solkraft', 'Sveriges Produktion MWh'],\n",
      "      dtype='object')\n",
      "(202878, 10)\n",
      "9\n"
     ]
    }
   ],
   "source": [
    "df = og_df.dropna(axis=1, how='all')\n",
    "df.drop(['Summa gas/Diesel'], axis=1, inplace=True)\n",
    "\n",
    "test_columns = pd.read_csv('baseline_feature_importance.csv', header=None, names=['feature','mae'])\n",
    "test_columns = test_columns.iloc[1:10,0]\n",
    "df = df.fillna(method='ffill')\n",
    "df = df.fillna(method='bfill')\n",
    "for e in df.columns:\n",
    "    if df[e].nunique() == 1:\n",
    "        df = df.drop(e, axis=1)\n",
    "first_column = df.pop('SE1')\n",
    "test_end = df[df['Date'] == '2018-01-01 23:00:00'].index.values[0]\n",
    "dates = df.pop('Date')\n",
    "df = df[test_columns]\n",
    "print(df.columns)\n",
    "\n",
    "  \n",
    "df.insert(0, 'SE1', first_column)\n",
    "\n",
    "# df = df.iloc[:,0:5]\n",
    "print(df.shape)\n",
    "\n",
    "n_features = df.shape[1]-1\n",
    "print(n_features)\n",
    "features = df.columns[1:]\n",
    "\n",
    "# Normalize the features using MinMaxScaler\n",
    "scaler = MinMaxScaler()\n",
    "df[df.columns] = scaler.fit_transform(df[df.columns])"
   ]
  },
  {
   "cell_type": "code",
   "execution_count": 3,
   "metadata": {},
   "outputs": [
    {
     "data": {
      "text/plain": [
       "<matplotlib.legend.Legend at 0x12079b6a940>"
      ]
     },
     "execution_count": 3,
     "metadata": {},
     "output_type": "execute_result"
    },
    {
     "data": {
      "image/png": "[encoded data removed]",
      "text/plain": [
       "<Figure size 640x480 with 1 Axes>"
      ]
     },
     "metadata": {},
     "output_type": "display_data"
    }
   ],
   "source": [
    "y = df['SE1']\n",
    "\n",
    "plt.plot(y, color='#6db1ff', label='SE1')\n",
    "plt.legend()"
   ]
  },
  {
   "cell_type": "code",
   "execution_count": 4,
   "metadata": {},
   "outputs": [
    {
     "name": "stdout",
     "output_type": "stream",
     "text": [
      "(172448, 10)\n",
      "(20287, 10)\n",
      "(10143, 10)\n"
     ]
    }
   ],
   "source": [
    "\n",
    "# Split the dataset into training and testing sets\n",
    "test_size = int(len(df) * 0.05)\n",
    "val_size = int(len(df) * 0.1)\n",
    "val_end = test_end - test_size\n",
    "\n",
    "train_df = df[:val_end-val_size]\n",
    "val_df = df[val_end-val_size:val_end]\n",
    "test_df = df[test_end-test_size:test_end]\n",
    "train_df = pd.concat([train_df, df[test_end:]])\n",
    "\n",
    "print(train_df.shape)\n",
    "print(val_df.shape)\n",
    "print(test_df.shape)"
   ]
  },
  {
   "cell_type": "code",
   "execution_count": 5,
   "metadata": {},
   "outputs": [
    {
     "name": "stdout",
     "output_type": "stream",
     "text": [
      "(172448,)\n"
     ]
    }
   ],
   "source": [
    "\n",
    "train_df = train_df.to_numpy()\n",
    "# print(train_df.shape)\n",
    "val_df = val_df.to_numpy()\n",
    "test_df = test_df.to_numpy()\n",
    "X_train = np.reshape(train_df[:,1:], (train_df.shape[0], 1, train_df.shape[1]-1))\n",
    "y_train = train_df[:,0]\n",
    "print(y_train.shape)\n",
    "X_val = np.reshape(val_df[:,1:], (val_df.shape[0], 1, val_df.shape[1]-1))\n",
    "y_val = val_df[:,0]\n",
    "X_test = np.reshape(test_df[:,1:], (test_df.shape[0], 1, test_df.shape[1]-1))\n",
    "y_test = test_df[:,0]\n",
    "# X_train = np.array(train_df.iloc[:,1:])\n",
    "# y_train = np.array(train_df.iloc[:,0])\n",
    "# X_val = np.array(val_df.iloc[:,1:])\n",
    "# y_val = np.array(val_df.iloc[:,0])\n",
    "# X_test = np.array(test_df.iloc[:,1:])\n",
    "# y_test = np.array(test_df.iloc[:,0])\n",
    "# sequence_length = 1\n",
    "# print(X_train.shape)\n",
    "# print(y_train.shape)\n",
    "# print(X_val.shape)\n",
    "# print(y_val.shape)\n",
    "# print(X_test.shape)\n",
    "# print(y_test.shape)\n",
    "# # Define the sequence length for the LSTM model\n",
    "# sequence_length = 10\n",
    "\n",
    "# def create_sequences(df, sequence_length):\n",
    "#     X = []\n",
    "#     y = []\n",
    "#     for i in range(len(df) - sequence_length):\n",
    "#         X.append(df.iloc[i:i+sequence_length, 1:].values)\n",
    "#         y.append(df.iloc[i+sequence_length, 0])\n",
    "#     return np.array(X), np.array(y)\n",
    "\n",
    "\n",
    "# X_train, y_train = create_sequences(train_df, sequence_length)\n",
    "# X_val, y_val = create_sequences(val_df, sequence_length)\n",
    "# X_test, y_test = create_sequences(test_df, sequence_length)\n",
    "# print(X_train.shape)\n",
    "# print(X_val.shape)\n",
    "# print(X_test.shape)"
   ]
  },
  {
   "cell_type": "code",
   "execution_count": 6,
   "metadata": {},
   "outputs": [
    {
     "name": "stdout",
     "output_type": "stream",
     "text": [
      "(172448, 1, 9)\n",
      "(172416, 1, 9)\n",
      "(172416,)\n"
     ]
    }
   ],
   "source": [
    "batch_size = 128\n",
    "print(X_train.shape)\n",
    "# Calculate the number of samples that are evenly divisible by batch_size\n",
    "num_samples_train = X_train.shape[0] // batch_size * batch_size\n",
    "num_samples_val = X_val.shape[0] // batch_size * batch_size\n",
    "num_samples_test = X_test.shape[0] // batch_size * batch_size\n",
    "\n",
    "# Reshape the input data to have a shape that is evenly divisible by batch_size\n",
    "X_train = X_train[:num_samples_train]\n",
    "y_train = y_train[:num_samples_train]\n",
    "X_val = X_val[:num_samples_val]\n",
    "y_val = y_val[:num_samples_val]\n",
    "X_test = X_test[:num_samples_test]\n",
    "y_test = y_test[:num_samples_test]\n",
    "print(X_train.shape)\n",
    "print(y_train.shape)\n",
    "# Verify that the new shape is evenly divisible by batch_size\n",
    "assert X_train.shape[0] % batch_size == 0\n",
    "assert X_val.shape[0] % batch_size == 0\n",
    "assert X_test.shape[0] % batch_size == 0"
   ]
  },
  {
   "cell_type": "code",
   "execution_count": 7,
   "metadata": {},
   "outputs": [
    {
     "name": "stdout",
     "output_type": "stream",
     "text": [
      "(172416,)\n"
     ]
    },
    {
     "data": {
      "text/plain": [
       "<matplotlib.legend.Legend at 0x1207ada6880>"
      ]
     },
     "execution_count": 7,
     "metadata": {},
     "output_type": "execute_result"
    },
    {
     "data": {
      "image/png": "[encoded data removed]",
      "text/plain": [
       "<Figure size 640x480 with 1 Axes>"
      ]
     },
     "metadata": {},
     "output_type": "display_data"
    }
   ],
   "source": [
    "print(y_train.shape)\n",
    "plt.plot(np.arange(0,val_end-val_size), y_train[0:val_end-val_size], color='grey', label='train')\n",
    "plt.plot(np.arange(val_end-y_val.shape[0], val_end), y_val, color='#fc9432', label='validation')\n",
    "plt.plot(np.arange(test_end-y_test.shape[0], test_end), y_test, color='#6db1ff', label='test')\n",
    "plt.plot(np.arange(test_end,(test_end + y_train[val_end-val_size:].shape[0])), y_train[val_end-val_size:], color='grey')\n",
    "plt.legend()"
   ]
  },
  {
   "cell_type": "code",
   "execution_count": 8,
   "metadata": {},
   "outputs": [],
   "source": [
    "# Define the model architecture\n",
    "model = tf.keras.Sequential([\n",
    "    tf.keras.layers.LSTM(64, batch_input_shape=(batch_size, None, n_features), stateful=True),\n",
    "    tf.keras.layers.Dense(1)\n",
    "])\n"
   ]
  },
  {
   "cell_type": "code",
   "execution_count": 9,
   "metadata": {},
   "outputs": [],
   "source": [
    "\n",
    "def compile_and_fit(model, X_train, y_train, X_val, y_val, patience=2):\n",
    "  early_stopping = tf.keras.callbacks.EarlyStopping(monitor='val_loss',\n",
    "                                                    patience=patience,\n",
    "                                                    mode='min')\n",
    "\n",
    "  model.compile(loss=tf.keras.losses.MeanSquaredError(),\n",
    "                optimizer=tf.keras.optimizers.Adam(),\n",
    "                metrics=[tf.keras.metrics.MeanAbsoluteError(), tf.keras.metrics.RootMeanSquaredError()])\n",
    "  model.reset_states()\n",
    "  model.build(X_train.shape)\n",
    "  # print(model.summary())\n",
    "  history = model.fit(X_train, y_train, validation_data=(X_val, y_val), epochs=10, batch_size=batch_size, verbose=0,\n",
    "                      callbacks=[early_stopping])\n",
    "  return history"
   ]
  },
  {
   "attachments": {},
   "cell_type": "markdown",
   "metadata": {},
   "source": [
    "# Data Analysis functions"
   ]
  },
  {
   "attachments": {},
   "cell_type": "markdown",
   "metadata": {},
   "source": [
    "feature_cutoff: Plot and calculate data cutoff based on mae impact"
   ]
  },
  {
   "cell_type": "code",
   "execution_count": 10,
   "metadata": {},
   "outputs": [],
   "source": [
    "def feature_cutoff(df, baseline_mae, n_cols, iteration, cutoff = 0, prime = 0):\n",
    "    # DISPLAY LSTM FEATURE IMPORTANCE\n",
    "    df = pd.read_csv(iteration + '_feature_importance.csv', header=None, names=['feature','mae'])\n",
    "    df = df.sort_values('mae')\n",
    "\n",
    "    plt.figure(figsize=(10,20))\n",
    "    plt.barh(np.arange(n_cols + 1),df.mae, color='#6db1ff')\n",
    "    plt.yticks(np.arange(n_cols + 1),df.feature.values)\n",
    "    plt.title('LSTM Feature Importance',size=16)\n",
    "    plt.ylim((-1,n_cols + 1))\n",
    "\n",
    "    plt.plot([baseline_mae,baseline_mae],[-1,n_cols + 1], '--', color='orange',\n",
    "                label=f'Baseline \\nMAE={baseline_mae:.4f}')\n",
    "    a_set_columns = [] \n",
    "    b_set_columns = []\n",
    "    prime_set_columns = []\n",
    "\n",
    "    df = df[df.feature != 'Baseline']\n",
    "\n",
    "    if cutoff != 0:\n",
    "        if cutoff == 1:\n",
    "            cutoff = np.std(df).mae\n",
    "        a_set_columns = df[df['mae'] >= baseline_mae - cutoff].feature\n",
    "        b_set_columns = df[df['mae'] < baseline_mae - cutoff].feature\n",
    "        plt.plot([baseline_mae-cutoff,baseline_mae-cutoff],[-1,n_cols+1], '--', color='red',\n",
    "                    label=f'Cutoff threshold\\nMAE={baseline_mae-cutoff:.4f}')\n",
    "\n",
    "    if prime != 0:\n",
    "        if prime == 1:\n",
    "            prime = np.std(df).mae\n",
    "        prime_set_columns = df[df['mae'] > baseline_mae + cutoff].feature\n",
    "        plt.plot([baseline_mae+cutoff,baseline_mae+cutoff],[-1,n_cols], '--', color='green',\n",
    "                    label=f'Cutoff threshold\\nMAE={baseline_mae+cutoff:.4f}')\n",
    "\n",
    "    plt.xlabel(f'MAE with feature zeroed',size=14)\n",
    "    plt.ylabel('Feature',size=14)\n",
    "    plt.legend()\n",
    "    plt.show()\n",
    "\n",
    "    return a_set_columns, b_set_columns, prime_set_columns"
   ]
  },
  {
   "attachments": {},
   "cell_type": "markdown",
   "metadata": {},
   "source": [
    "boxplot: Create a boxplot"
   ]
  },
  {
   "cell_type": "code",
   "execution_count": 11,
   "metadata": {},
   "outputs": [],
   "source": [
    "def boxplot(data, columns):\n",
    "    fig, (ax1) = plt.subplots(nrows=1, ncols=1, figsize=(9, columns.shape[0]//6))\n",
    "\n",
    "    meds = data.median()\n",
    "    meds.sort_values(ascending=False, inplace=True)\n",
    "    data = data[meds.index]\n",
    "\n",
    "    # rectangular box plot\n",
    "    bplot1 = ax1.boxplot(data,\n",
    "                        vert=False,  # vertical box alignment\n",
    "                        patch_artist=True,  # fill with color\n",
    "                        labels=columns)  # will be used to label x-ticks\n",
    "\n",
    "    for patch in bplot1['boxes']:\n",
    "        patch.set_facecolor('#6db1ff')\n",
    "    plt.show()"
   ]
  },
  {
   "attachments": {},
   "cell_type": "markdown",
   "metadata": {},
   "source": [
    "feature_importance: Calculate feature importance"
   ]
  },
  {
   "cell_type": "code",
   "execution_count": 12,
   "metadata": {},
   "outputs": [],
   "source": [
    "import os\n",
    "def feature_importance(model, X, y, df, batch_size, iteration):\n",
    "    COLS = list(df.columns[1:])\n",
    "    n_cols = len(COLS)\n",
    "    # n_cols = 5\n",
    "    print('Computing LSTM feature importance...')\n",
    "\n",
    "    oof_preds = model.predict(X, verbose=0, batch_size=batch_size).squeeze() \n",
    "    baseline_mae = np.mean(np.abs( oof_preds-y ))\n",
    "    print(baseline_mae)\n",
    "    if os.path.exists(iteration + '_feature_importance.csv'):\n",
    "        os.remove(iteration + '_feature_importance.csv')\n",
    "    fi_df = pd.DataFrame(['Baseline', baseline_mae]).T\n",
    "    fi_df.to_csv(iteration + '_feature_importance.csv', index=False, header=False)\n",
    "    for k in range(n_cols):\n",
    "        save_col = X[:,:,k].copy()\n",
    "        X[:,:,k] = np.zeros((X.shape[0],X.shape[1]))\n",
    "                \n",
    "        oof_preds = model.predict(X, verbose=0, batch_size=batch_size).squeeze() \n",
    "        mae = np.mean(np.abs( oof_preds-y ))\n",
    "        fi_df = pd.DataFrame([COLS[k], mae]).T\n",
    "        fi_df.to_csv(iteration + '_feature_importance.csv', mode='a', index=False, header=False)\n",
    "        X[:,:,k] = save_col\n",
    "    \n",
    "    return baseline_mae, n_cols\n"
   ]
  },
  {
   "attachments": {},
   "cell_type": "markdown",
   "metadata": {},
   "source": [
    "# Zeroing feature importance "
   ]
  },
  {
   "cell_type": "code",
   "execution_count": 14,
   "metadata": {},
   "outputs": [
    {
     "data": {
      "text/plain": [
       "<keras.callbacks.History at 0x1207c3ed700>"
      ]
     },
     "execution_count": 14,
     "metadata": {},
     "output_type": "execute_result"
    }
   ],
   "source": [
    "compile_and_fit(model, X_train, y_train, X_val, y_val)"
   ]
  },
  {
   "cell_type": "code",
   "execution_count": 34,
   "metadata": {},
   "outputs": [
    {
     "name": "stderr",
     "output_type": "stream",
     "text": [
      "Your TensorFlow version is newer than 2.4.0 and so graph support has been removed in eager mode and some static graphs may not be supported. See PR #1483 for discussion.\n"
     ]
    },
    {
     "ename": "TypeError",
     "evalue": "'NoneType' object cannot be interpreted as an integer",
     "output_type": "error",
     "traceback": [
      "\u001b[1;31m---------------------------------------------------------------------------\u001b[0m",
      "\u001b[1;31mTypeError\u001b[0m                                 Traceback (most recent call last)",
      "Cell \u001b[1;32mIn[34], line 5\u001b[0m\n\u001b[0;32m      2\u001b[0m explainer \u001b[39m=\u001b[39m shap\u001b[39m.\u001b[39mDeepExplainer(model, X_train[:\u001b[39m128\u001b[39m])\n\u001b[0;32m      3\u001b[0m \u001b[39m# explain the the testing instances (can use fewer instanaces)\u001b[39;00m\n\u001b[0;32m      4\u001b[0m \u001b[39m# explaining each prediction requires 2 * background dataset size runs\u001b[39;00m\n\u001b[1;32m----> 5\u001b[0m \u001b[39mprint\u001b[39m(explainer\u001b[39m.\u001b[39;49mshap_values(X_val[:\u001b[39m256\u001b[39;49m]))\n\u001b[0;32m      6\u001b[0m shap_values \u001b[39m=\u001b[39m explainer\u001b[39m.\u001b[39mshap_values(X_val[:\u001b[39m256\u001b[39m])\n\u001b[0;32m      7\u001b[0m \u001b[39m# init the JS visualization code\u001b[39;00m\n",
      "File \u001b[1;32mc:\\Users\\albin\\AppData\\Local\\Programs\\Python\\Python39\\lib\\site-packages\\shap\\explainers\\_deep\\__init__.py:124\u001b[0m, in \u001b[0;36mDeep.shap_values\u001b[1;34m(self, X, ranked_outputs, output_rank_order, check_additivity)\u001b[0m\n\u001b[0;32m     90\u001b[0m \u001b[39mdef\u001b[39;00m \u001b[39mshap_values\u001b[39m(\u001b[39mself\u001b[39m, X, ranked_outputs\u001b[39m=\u001b[39m\u001b[39mNone\u001b[39;00m, output_rank_order\u001b[39m=\u001b[39m\u001b[39m'\u001b[39m\u001b[39mmax\u001b[39m\u001b[39m'\u001b[39m, check_additivity\u001b[39m=\u001b[39m\u001b[39mTrue\u001b[39;00m):\n\u001b[0;32m     91\u001b[0m \u001b[39m    \u001b[39m\u001b[39m\"\"\" Return approximate SHAP values for the model applied to the data given by X.\u001b[39;00m\n\u001b[0;32m     92\u001b[0m \n\u001b[0;32m     93\u001b[0m \u001b[39m    Parameters\u001b[39;00m\n\u001b[1;32m   (...)\u001b[0m\n\u001b[0;32m    122\u001b[0m \u001b[39m        were chosen as \"top\".\u001b[39;00m\n\u001b[0;32m    123\u001b[0m \u001b[39m    \"\"\"\u001b[39;00m\n\u001b[1;32m--> 124\u001b[0m     \u001b[39mreturn\u001b[39;00m \u001b[39mself\u001b[39;49m\u001b[39m.\u001b[39;49mexplainer\u001b[39m.\u001b[39;49mshap_values(X, ranked_outputs, output_rank_order, check_additivity\u001b[39m=\u001b[39;49mcheck_additivity)\n",
      "File \u001b[1;32mc:\\Users\\albin\\AppData\\Local\\Programs\\Python\\Python39\\lib\\site-packages\\shap\\explainers\\_deep\\deep_tf.py:312\u001b[0m, in \u001b[0;36mTFDeep.shap_values\u001b[1;34m(self, X, ranked_outputs, output_rank_order, check_additivity)\u001b[0m\n\u001b[0;32m    310\u001b[0m \u001b[39m# run attribution computation graph\u001b[39;00m\n\u001b[0;32m    311\u001b[0m feature_ind \u001b[39m=\u001b[39m model_output_ranks[j,i]\n\u001b[1;32m--> 312\u001b[0m sample_phis \u001b[39m=\u001b[39m \u001b[39mself\u001b[39;49m\u001b[39m.\u001b[39;49mrun(\u001b[39mself\u001b[39;49m\u001b[39m.\u001b[39;49mphi_symbolic(feature_ind), \u001b[39mself\u001b[39;49m\u001b[39m.\u001b[39;49mmodel_inputs, joint_input)\n\u001b[0;32m    314\u001b[0m \u001b[39m# assign the attributions to the right part of the output arrays\u001b[39;00m\n\u001b[0;32m    315\u001b[0m \u001b[39mfor\u001b[39;00m l \u001b[39min\u001b[39;00m \u001b[39mrange\u001b[39m(\u001b[39mlen\u001b[39m(X)):\n",
      "File \u001b[1;32mc:\\Users\\albin\\AppData\\Local\\Programs\\Python\\Python39\\lib\\site-packages\\shap\\explainers\\_deep\\deep_tf.py:372\u001b[0m, in \u001b[0;36mTFDeep.run\u001b[1;34m(self, out, model_inputs, X)\u001b[0m\n\u001b[0;32m    369\u001b[0m         tf_execute\u001b[39m.\u001b[39mrecord_gradient \u001b[39m=\u001b[39m tf_backprop\u001b[39m.\u001b[39mrecord_gradient\n\u001b[0;32m    371\u001b[0m     \u001b[39mreturn\u001b[39;00m final_out\n\u001b[1;32m--> 372\u001b[0m \u001b[39mreturn\u001b[39;00m \u001b[39mself\u001b[39;49m\u001b[39m.\u001b[39;49mexecute_with_overridden_gradients(anon)\n",
      "File \u001b[1;32mc:\\Users\\albin\\AppData\\Local\\Programs\\Python\\Python39\\lib\\site-packages\\shap\\explainers\\_deep\\deep_tf.py:408\u001b[0m, in \u001b[0;36mTFDeep.execute_with_overridden_gradients\u001b[1;34m(self, f)\u001b[0m\n\u001b[0;32m    406\u001b[0m \u001b[39m# define the computation graph for the attribution values using a custom gradient-like computation\u001b[39;00m\n\u001b[0;32m    407\u001b[0m \u001b[39mtry\u001b[39;00m:\n\u001b[1;32m--> 408\u001b[0m     out \u001b[39m=\u001b[39m f()\n\u001b[0;32m    409\u001b[0m \u001b[39mfinally\u001b[39;00m:\n\u001b[0;32m    410\u001b[0m     \u001b[39m# reinstate the backpropagatable check\u001b[39;00m\n\u001b[0;32m    411\u001b[0m     \u001b[39mif\u001b[39;00m \u001b[39mhasattr\u001b[39m(tf_gradients_impl, \u001b[39m\"\u001b[39m\u001b[39m_IsBackpropagatable\u001b[39m\u001b[39m\"\u001b[39m):\n",
      "File \u001b[1;32mc:\\Users\\albin\\AppData\\Local\\Programs\\Python\\Python39\\lib\\site-packages\\shap\\explainers\\_deep\\deep_tf.py:362\u001b[0m, in \u001b[0;36mTFDeep.run.<locals>.anon\u001b[1;34m()\u001b[0m\n\u001b[0;32m    360\u001b[0m shape \u001b[39m=\u001b[39m \u001b[39mlist\u001b[39m(\u001b[39mself\u001b[39m\u001b[39m.\u001b[39mmodel_inputs[i]\u001b[39m.\u001b[39mshape)\n\u001b[0;32m    361\u001b[0m shape[\u001b[39m0\u001b[39m] \u001b[39m=\u001b[39m \u001b[39m-\u001b[39m\u001b[39m1\u001b[39m\n\u001b[1;32m--> 362\u001b[0m data \u001b[39m=\u001b[39m X[i]\u001b[39m.\u001b[39;49mreshape(shape)\n\u001b[0;32m    363\u001b[0m v \u001b[39m=\u001b[39m tf\u001b[39m.\u001b[39mconstant(data, dtype\u001b[39m=\u001b[39m\u001b[39mself\u001b[39m\u001b[39m.\u001b[39mmodel_inputs[i]\u001b[39m.\u001b[39mdtype)\n\u001b[0;32m    364\u001b[0m inputs\u001b[39m.\u001b[39mappend(v)\n",
      "\u001b[1;31mTypeError\u001b[0m: 'NoneType' object cannot be interpreted as an integer"
     ]
    }
   ],
   "source": [
    "# Use the training data for deep explainer => can use fewer instances\n",
    "explainer = shap.DeepExplainer(model, X_train[:128])\n",
    "# explain the the testing instances (can use fewer instanaces)\n",
    "# explaining each prediction requires 2 * background dataset size runs\n",
    "print(explainer.shap_values(X_val[:256]))\n",
    "shap_values = explainer.shap_values(X_val[:256])\n",
    "# init the JS visualization code\n",
    "shap.initjs()\n",
    "shap.force_plot(explainer.expected_value[0], shap_values[0][0], features) "
   ]
  }
 ],
 "metadata": {
  "kernelspec": {
   "display_name": "Python 3",
   "language": "python",
   "name": "python3"
  },
  "language_info": {
   "codemirror_mode": {
    "name": "ipython",
    "version": 3
   },
   "file_extension": ".py",
   "mimetype": "text/x-python",
   "name": "python",
   "nbconvert_exporter": "python",
   "pygments_lexer": "ipython3",
   "version": "3.9.1"
  },
  "orig_nbformat": 4,
  "vscode": {
   "interpreter": {
    "hash": "e8e86f11f8de651d2c5fce83c6190e2e2c0f42ae90d60e5c5b35a501d45892ca"
   }
  }
 },
 "nbformat": 4,
 "nbformat_minor": 2
}
