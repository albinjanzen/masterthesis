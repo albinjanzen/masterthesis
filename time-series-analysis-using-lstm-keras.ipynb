{
 "cells": [
  {
   "cell_type": "markdown",
   "metadata": {
    "_uuid": "3d7c6a3bd655da50b56413fc3e2e10c2531ef842"
   },
   "source": [
    "The type of Neural Network designed to handle sequence dependence is called recurrent neural networks(RNN). \n",
    "\n",
    "The Long Short-Term Memory network or LSTM network is a type of recurrent neural network used in deep learning because very large architectures can be successfully trained"
   ]
  },
  {
   "cell_type": "code",
   "execution_count": 1,
   "metadata": {
    "_cell_guid": "b1076dfc-b9ad-4769-8c92-a6c4dae69d19",
    "_uuid": "8f2839f25d086af736a60e9eeb907d3b93b6e0e5"
   },
   "outputs": [
    {
     "name": "stderr",
     "output_type": "stream",
     "text": [
      "Using TensorFlow backend.\n"
     ]
    },
    {
     "name": "stdout",
     "output_type": "stream",
     "text": [
      "['prices.csv', 'securities.csv', 'prices-split-adjusted.csv', 'fundamentals.csv']\n"
     ]
    }
   ],
   "source": [
    "# This Python 3 environment comes with many helpful analytics libraries installed\n",
    "# It is defined by the kaggle/python docker image: https://github.com/kaggle/docker-python\n",
    "# For example, here's several helpful packages to load in \n",
    "\n",
    "import numpy as np # linear algebra\n",
    "import pandas as pd # data processing, CSV file I/O (e.g. pd.read_csv)\n",
    "import matplotlib.pyplot as plt\n",
    "%matplotlib inline\n",
    "from pandas import datetime\n",
    "import math, time\n",
    "import itertools\n",
    "from sklearn import preprocessing\n",
    "import datetime\n",
    "from operator import itemgetter\n",
    "from sklearn.preprocessing import MinMaxScaler\n",
    "from sklearn.metrics import mean_squared_error\n",
    "from math import sqrt\n",
    "from keras.models import Sequential\n",
    "from keras.layers.core import Dense, Dropout, Activation\n",
    "from keras.layers.recurrent import LSTM\n",
    "from keras.models import load_model\n",
    "import keras\n",
    "import h5py\n",
    "import requests\n",
    "import os\n",
    "\n",
    "# Input data files are available in the \"../input/\" directory.\n",
    "# For example, running this (by clicking run or pressing Shift+Enter) will list the files in the input directory\n",
    "\n",
    "import os\n",
    "print(os.listdir(\"../input\"))\n",
    "\n",
    "# Any results you write to the current directory are saved as output."
   ]
  },
  {
   "cell_type": "code",
   "execution_count": 2,
   "metadata": {
    "_cell_guid": "79c7e3d0-c299-4dcb-8224-4455121ee9b0",
    "_uuid": "d629ff2d2480ee46fbb7e2d37f6b5fab8052498a"
   },
   "outputs": [
    {
     "data": {
      "text/html": [
       "<div>\n",
       "<style scoped>\n",
       "    .dataframe tbody tr th:only-of-type {\n",
       "        vertical-align: middle;\n",
       "    }\n",
       "\n",
       "    .dataframe tbody tr th {\n",
       "        vertical-align: top;\n",
       "    }\n",
       "\n",
       "    .dataframe thead th {\n",
       "        text-align: right;\n",
       "    }\n",
       "</style>\n",
       "<table border=\"1\" class=\"dataframe\">\n",
       "  <thead>\n",
       "    <tr style=\"text-align: right;\">\n",
       "      <th></th>\n",
       "      <th>symbol</th>\n",
       "      <th>open</th>\n",
       "      <th>close</th>\n",
       "      <th>low</th>\n",
       "      <th>high</th>\n",
       "      <th>volume</th>\n",
       "    </tr>\n",
       "    <tr>\n",
       "      <th>date</th>\n",
       "      <th></th>\n",
       "      <th></th>\n",
       "      <th></th>\n",
       "      <th></th>\n",
       "      <th></th>\n",
       "      <th></th>\n",
       "    </tr>\n",
       "  </thead>\n",
       "  <tbody>\n",
       "    <tr>\n",
       "      <th>2016-01-05</th>\n",
       "      <td>WLTW</td>\n",
       "      <td>123.430000</td>\n",
       "      <td>125.839996</td>\n",
       "      <td>122.309998</td>\n",
       "      <td>126.250000</td>\n",
       "      <td>2163600.0</td>\n",
       "    </tr>\n",
       "    <tr>\n",
       "      <th>2016-01-06</th>\n",
       "      <td>WLTW</td>\n",
       "      <td>125.239998</td>\n",
       "      <td>119.980003</td>\n",
       "      <td>119.940002</td>\n",
       "      <td>125.540001</td>\n",
       "      <td>2386400.0</td>\n",
       "    </tr>\n",
       "    <tr>\n",
       "      <th>2016-01-07</th>\n",
       "      <td>WLTW</td>\n",
       "      <td>116.379997</td>\n",
       "      <td>114.949997</td>\n",
       "      <td>114.930000</td>\n",
       "      <td>119.739998</td>\n",
       "      <td>2489500.0</td>\n",
       "    </tr>\n",
       "    <tr>\n",
       "      <th>2016-01-08</th>\n",
       "      <td>WLTW</td>\n",
       "      <td>115.480003</td>\n",
       "      <td>116.620003</td>\n",
       "      <td>113.500000</td>\n",
       "      <td>117.440002</td>\n",
       "      <td>2006300.0</td>\n",
       "    </tr>\n",
       "    <tr>\n",
       "      <th>2016-01-11</th>\n",
       "      <td>WLTW</td>\n",
       "      <td>117.010002</td>\n",
       "      <td>114.970001</td>\n",
       "      <td>114.089996</td>\n",
       "      <td>117.330002</td>\n",
       "      <td>1408600.0</td>\n",
       "    </tr>\n",
       "  </tbody>\n",
       "</table>\n",
       "</div>"
      ],
      "text/plain": [
       "           symbol        open    ...            high     volume\n",
       "date                             ...                           \n",
       "2016-01-05   WLTW  123.430000    ...      126.250000  2163600.0\n",
       "2016-01-06   WLTW  125.239998    ...      125.540001  2386400.0\n",
       "2016-01-07   WLTW  116.379997    ...      119.739998  2489500.0\n",
       "2016-01-08   WLTW  115.480003    ...      117.440002  2006300.0\n",
       "2016-01-11   WLTW  117.010002    ...      117.330002  1408600.0\n",
       "\n",
       "[5 rows x 6 columns]"
      ]
     },
     "execution_count": 2,
     "metadata": {},
     "output_type": "execute_result"
    }
   ],
   "source": [
    "data_df =  pd.read_csv(\"../input/prices-split-adjusted.csv\", index_col = 0)\n",
    "data_df.head()"
   ]
  },
  {
   "cell_type": "code",
   "execution_count": 3,
   "metadata": {
    "_uuid": "9584f8ed27c94867f5c4a1a36f554c35770717bf"
   },
   "outputs": [
    {
     "data": {
      "text/html": [
       "<div>\n",
       "<style scoped>\n",
       "    .dataframe tbody tr th:only-of-type {\n",
       "        vertical-align: middle;\n",
       "    }\n",
       "\n",
       "    .dataframe tbody tr th {\n",
       "        vertical-align: top;\n",
       "    }\n",
       "\n",
       "    .dataframe thead th {\n",
       "        text-align: right;\n",
       "    }\n",
       "</style>\n",
       "<table border=\"1\" class=\"dataframe\">\n",
       "  <thead>\n",
       "    <tr style=\"text-align: right;\">\n",
       "      <th></th>\n",
       "      <th>Unnamed: 0</th>\n",
       "      <th>Ticker Symbol</th>\n",
       "      <th>Period Ending</th>\n",
       "      <th>Accounts Payable</th>\n",
       "      <th>Accounts Receivable</th>\n",
       "      <th>Add'l income/expense items</th>\n",
       "      <th>After Tax ROE</th>\n",
       "      <th>Capital Expenditures</th>\n",
       "      <th>Capital Surplus</th>\n",
       "      <th>Cash Ratio</th>\n",
       "      <th>Cash and Cash Equivalents</th>\n",
       "      <th>Changes in Inventories</th>\n",
       "      <th>Common Stocks</th>\n",
       "      <th>Cost of Revenue</th>\n",
       "      <th>Current Ratio</th>\n",
       "      <th>Deferred Asset Charges</th>\n",
       "      <th>Deferred Liability Charges</th>\n",
       "      <th>Depreciation</th>\n",
       "      <th>Earnings Before Interest and Tax</th>\n",
       "      <th>Earnings Before Tax</th>\n",
       "      <th>Effect of Exchange Rate</th>\n",
       "      <th>Equity Earnings/Loss Unconsolidated Subsidiary</th>\n",
       "      <th>Fixed Assets</th>\n",
       "      <th>Goodwill</th>\n",
       "      <th>Gross Margin</th>\n",
       "      <th>Gross Profit</th>\n",
       "      <th>Income Tax</th>\n",
       "      <th>Intangible Assets</th>\n",
       "      <th>Interest Expense</th>\n",
       "      <th>Inventory</th>\n",
       "      <th>Investments</th>\n",
       "      <th>Liabilities</th>\n",
       "      <th>Long-Term Debt</th>\n",
       "      <th>Long-Term Investments</th>\n",
       "      <th>Minority Interest</th>\n",
       "      <th>Misc. Stocks</th>\n",
       "      <th>Net Borrowings</th>\n",
       "      <th>Net Cash Flow</th>\n",
       "      <th>Net Cash Flow-Operating</th>\n",
       "      <th>Net Cash Flows-Financing</th>\n",
       "      <th>Net Cash Flows-Investing</th>\n",
       "      <th>Net Income</th>\n",
       "      <th>Net Income Adjustments</th>\n",
       "      <th>Net Income Applicable to Common Shareholders</th>\n",
       "      <th>Net Income-Cont. Operations</th>\n",
       "      <th>Net Receivables</th>\n",
       "      <th>Non-Recurring Items</th>\n",
       "      <th>Operating Income</th>\n",
       "      <th>Operating Margin</th>\n",
       "      <th>Other Assets</th>\n",
       "      <th>Other Current Assets</th>\n",
       "      <th>Other Current Liabilities</th>\n",
       "      <th>Other Equity</th>\n",
       "      <th>Other Financing Activities</th>\n",
       "      <th>Other Investing Activities</th>\n",
       "      <th>Other Liabilities</th>\n",
       "      <th>Other Operating Activities</th>\n",
       "      <th>Other Operating Items</th>\n",
       "      <th>Pre-Tax Margin</th>\n",
       "      <th>Pre-Tax ROE</th>\n",
       "      <th>Profit Margin</th>\n",
       "      <th>Quick Ratio</th>\n",
       "      <th>Research and Development</th>\n",
       "      <th>Retained Earnings</th>\n",
       "      <th>Sale and Purchase of Stock</th>\n",
       "      <th>Sales, General and Admin.</th>\n",
       "      <th>Short-Term Debt / Current Portion of Long-Term Debt</th>\n",
       "      <th>Short-Term Investments</th>\n",
       "      <th>Total Assets</th>\n",
       "      <th>Total Current Assets</th>\n",
       "      <th>Total Current Liabilities</th>\n",
       "      <th>Total Equity</th>\n",
       "      <th>Total Liabilities</th>\n",
       "      <th>Total Liabilities &amp; Equity</th>\n",
       "      <th>Total Revenue</th>\n",
       "      <th>Treasury Stock</th>\n",
       "      <th>For Year</th>\n",
       "      <th>Earnings Per Share</th>\n",
       "      <th>Estimated Shares Outstanding</th>\n",
       "    </tr>\n",
       "  </thead>\n",
       "  <tbody>\n",
       "    <tr>\n",
       "      <th>0</th>\n",
       "      <td>0</td>\n",
       "      <td>AAL</td>\n",
       "      <td>2012-12-31</td>\n",
       "      <td>3.068000e+09</td>\n",
       "      <td>-222000000.0</td>\n",
       "      <td>-1.961000e+09</td>\n",
       "      <td>23.0</td>\n",
       "      <td>-1.888000e+09</td>\n",
       "      <td>4.695000e+09</td>\n",
       "      <td>53.0</td>\n",
       "      <td>1.330000e+09</td>\n",
       "      <td>0.0</td>\n",
       "      <td>127000000.0</td>\n",
       "      <td>1.049900e+10</td>\n",
       "      <td>78.0</td>\n",
       "      <td>0.000000e+00</td>\n",
       "      <td>223000000.0</td>\n",
       "      <td>1.001000e+09</td>\n",
       "      <td>-1.813000e+09</td>\n",
       "      <td>-2.445000e+09</td>\n",
       "      <td>0.0</td>\n",
       "      <td>0.0</td>\n",
       "      <td>1.340200e+10</td>\n",
       "      <td>0.000000e+00</td>\n",
       "      <td>58.0</td>\n",
       "      <td>1.435600e+10</td>\n",
       "      <td>-5.690000e+08</td>\n",
       "      <td>8.690000e+08</td>\n",
       "      <td>632000000.0</td>\n",
       "      <td>5.800000e+08</td>\n",
       "      <td>3.060000e+08</td>\n",
       "      <td>4.730000e+08</td>\n",
       "      <td>7.116000e+09</td>\n",
       "      <td>0.0</td>\n",
       "      <td>0.0</td>\n",
       "      <td>0.0</td>\n",
       "      <td>-1.020000e+09</td>\n",
       "      <td>197000000.0</td>\n",
       "      <td>1.285000e+09</td>\n",
       "      <td>4.830000e+08</td>\n",
       "      <td>-1.571000e+09</td>\n",
       "      <td>-1.876000e+09</td>\n",
       "      <td>2.050000e+09</td>\n",
       "      <td>-1.876000e+09</td>\n",
       "      <td>-4.084000e+09</td>\n",
       "      <td>1.124000e+09</td>\n",
       "      <td>3.860000e+08</td>\n",
       "      <td>1.480000e+08</td>\n",
       "      <td>1.0</td>\n",
       "      <td>2.167000e+09</td>\n",
       "      <td>6.260000e+08</td>\n",
       "      <td>4.524000e+09</td>\n",
       "      <td>-2.980000e+09</td>\n",
       "      <td>1.509000e+09</td>\n",
       "      <td>11000000.0</td>\n",
       "      <td>1.514700e+10</td>\n",
       "      <td>-141000000.0</td>\n",
       "      <td>8.450000e+08</td>\n",
       "      <td>10.0</td>\n",
       "      <td>31.0</td>\n",
       "      <td>8.0</td>\n",
       "      <td>72.0</td>\n",
       "      <td>0.0</td>\n",
       "      <td>-9.462000e+09</td>\n",
       "      <td>0.000000e+00</td>\n",
       "      <td>1.297700e+10</td>\n",
       "      <td>1.419000e+09</td>\n",
       "      <td>3.412000e+09</td>\n",
       "      <td>2.351000e+10</td>\n",
       "      <td>7.072000e+09</td>\n",
       "      <td>9.011000e+09</td>\n",
       "      <td>-7.987000e+09</td>\n",
       "      <td>2.489100e+10</td>\n",
       "      <td>1.690400e+10</td>\n",
       "      <td>2.485500e+10</td>\n",
       "      <td>-367000000.0</td>\n",
       "      <td>2012.0</td>\n",
       "      <td>-5.60</td>\n",
       "      <td>3.350000e+08</td>\n",
       "    </tr>\n",
       "    <tr>\n",
       "      <th>1</th>\n",
       "      <td>1</td>\n",
       "      <td>AAL</td>\n",
       "      <td>2013-12-31</td>\n",
       "      <td>4.975000e+09</td>\n",
       "      <td>-93000000.0</td>\n",
       "      <td>-2.723000e+09</td>\n",
       "      <td>67.0</td>\n",
       "      <td>-3.114000e+09</td>\n",
       "      <td>1.059200e+10</td>\n",
       "      <td>75.0</td>\n",
       "      <td>2.175000e+09</td>\n",
       "      <td>0.0</td>\n",
       "      <td>5000000.0</td>\n",
       "      <td>1.101900e+10</td>\n",
       "      <td>104.0</td>\n",
       "      <td>0.000000e+00</td>\n",
       "      <td>935000000.0</td>\n",
       "      <td>1.020000e+09</td>\n",
       "      <td>-1.324000e+09</td>\n",
       "      <td>-2.180000e+09</td>\n",
       "      <td>0.0</td>\n",
       "      <td>0.0</td>\n",
       "      <td>1.925900e+10</td>\n",
       "      <td>4.086000e+09</td>\n",
       "      <td>59.0</td>\n",
       "      <td>1.572400e+10</td>\n",
       "      <td>-3.460000e+08</td>\n",
       "      <td>2.311000e+09</td>\n",
       "      <td>856000000.0</td>\n",
       "      <td>1.012000e+09</td>\n",
       "      <td>-1.181000e+09</td>\n",
       "      <td>-2.350000e+08</td>\n",
       "      <td>1.535300e+10</td>\n",
       "      <td>0.0</td>\n",
       "      <td>0.0</td>\n",
       "      <td>0.0</td>\n",
       "      <td>2.208000e+09</td>\n",
       "      <td>660000000.0</td>\n",
       "      <td>6.750000e+08</td>\n",
       "      <td>3.799000e+09</td>\n",
       "      <td>-3.814000e+09</td>\n",
       "      <td>-1.834000e+09</td>\n",
       "      <td>1.873000e+09</td>\n",
       "      <td>-1.834000e+09</td>\n",
       "      <td>-4.489000e+09</td>\n",
       "      <td>1.560000e+09</td>\n",
       "      <td>5.590000e+08</td>\n",
       "      <td>1.399000e+09</td>\n",
       "      <td>5.0</td>\n",
       "      <td>2.299000e+09</td>\n",
       "      <td>1.465000e+09</td>\n",
       "      <td>7.385000e+09</td>\n",
       "      <td>-2.032000e+09</td>\n",
       "      <td>1.711000e+09</td>\n",
       "      <td>481000000.0</td>\n",
       "      <td>1.491500e+10</td>\n",
       "      <td>-56000000.0</td>\n",
       "      <td>8.530000e+08</td>\n",
       "      <td>8.0</td>\n",
       "      <td>80.0</td>\n",
       "      <td>7.0</td>\n",
       "      <td>96.0</td>\n",
       "      <td>0.0</td>\n",
       "      <td>-1.129600e+10</td>\n",
       "      <td>0.000000e+00</td>\n",
       "      <td>1.291300e+10</td>\n",
       "      <td>1.446000e+09</td>\n",
       "      <td>8.111000e+09</td>\n",
       "      <td>4.227800e+10</td>\n",
       "      <td>1.432300e+10</td>\n",
       "      <td>1.380600e+10</td>\n",
       "      <td>-2.731000e+09</td>\n",
       "      <td>4.500900e+10</td>\n",
       "      <td>4.227800e+10</td>\n",
       "      <td>2.674300e+10</td>\n",
       "      <td>0.0</td>\n",
       "      <td>2013.0</td>\n",
       "      <td>-11.25</td>\n",
       "      <td>1.630222e+08</td>\n",
       "    </tr>\n",
       "    <tr>\n",
       "      <th>2</th>\n",
       "      <td>2</td>\n",
       "      <td>AAL</td>\n",
       "      <td>2014-12-31</td>\n",
       "      <td>4.668000e+09</td>\n",
       "      <td>-160000000.0</td>\n",
       "      <td>-1.500000e+08</td>\n",
       "      <td>143.0</td>\n",
       "      <td>-5.311000e+09</td>\n",
       "      <td>1.513500e+10</td>\n",
       "      <td>60.0</td>\n",
       "      <td>1.768000e+09</td>\n",
       "      <td>0.0</td>\n",
       "      <td>7000000.0</td>\n",
       "      <td>1.562000e+10</td>\n",
       "      <td>88.0</td>\n",
       "      <td>0.000000e+00</td>\n",
       "      <td>829000000.0</td>\n",
       "      <td>1.342000e+09</td>\n",
       "      <td>4.099000e+09</td>\n",
       "      <td>3.212000e+09</td>\n",
       "      <td>0.0</td>\n",
       "      <td>0.0</td>\n",
       "      <td>2.308400e+10</td>\n",
       "      <td>4.091000e+09</td>\n",
       "      <td>63.0</td>\n",
       "      <td>2.703000e+10</td>\n",
       "      <td>3.300000e+08</td>\n",
       "      <td>2.240000e+09</td>\n",
       "      <td>887000000.0</td>\n",
       "      <td>1.004000e+09</td>\n",
       "      <td>1.799000e+09</td>\n",
       "      <td>-1.026000e+09</td>\n",
       "      <td>1.604300e+10</td>\n",
       "      <td>0.0</td>\n",
       "      <td>0.0</td>\n",
       "      <td>0.0</td>\n",
       "      <td>1.700000e+08</td>\n",
       "      <td>-146000000.0</td>\n",
       "      <td>3.080000e+09</td>\n",
       "      <td>-3.150000e+08</td>\n",
       "      <td>-2.911000e+09</td>\n",
       "      <td>2.882000e+09</td>\n",
       "      <td>5.420000e+08</td>\n",
       "      <td>2.882000e+09</td>\n",
       "      <td>2.882000e+09</td>\n",
       "      <td>1.771000e+09</td>\n",
       "      <td>8.000000e+08</td>\n",
       "      <td>4.249000e+09</td>\n",
       "      <td>10.0</td>\n",
       "      <td>2.060000e+09</td>\n",
       "      <td>8.980000e+08</td>\n",
       "      <td>7.059000e+09</td>\n",
       "      <td>-4.559000e+09</td>\n",
       "      <td>8.170000e+08</td>\n",
       "      <td>601000000.0</td>\n",
       "      <td>1.092800e+10</td>\n",
       "      <td>-500000000.0</td>\n",
       "      <td>1.295000e+09</td>\n",
       "      <td>8.0</td>\n",
       "      <td>159.0</td>\n",
       "      <td>7.0</td>\n",
       "      <td>80.0</td>\n",
       "      <td>0.0</td>\n",
       "      <td>-8.562000e+09</td>\n",
       "      <td>-1.052000e+09</td>\n",
       "      <td>2.068600e+10</td>\n",
       "      <td>1.677000e+09</td>\n",
       "      <td>6.309000e+09</td>\n",
       "      <td>4.322500e+10</td>\n",
       "      <td>1.175000e+10</td>\n",
       "      <td>1.340400e+10</td>\n",
       "      <td>2.021000e+09</td>\n",
       "      <td>4.120400e+10</td>\n",
       "      <td>4.322500e+10</td>\n",
       "      <td>4.265000e+10</td>\n",
       "      <td>0.0</td>\n",
       "      <td>2014.0</td>\n",
       "      <td>4.02</td>\n",
       "      <td>7.169154e+08</td>\n",
       "    </tr>\n",
       "    <tr>\n",
       "      <th>3</th>\n",
       "      <td>3</td>\n",
       "      <td>AAL</td>\n",
       "      <td>2015-12-31</td>\n",
       "      <td>5.102000e+09</td>\n",
       "      <td>352000000.0</td>\n",
       "      <td>-7.080000e+08</td>\n",
       "      <td>135.0</td>\n",
       "      <td>-6.151000e+09</td>\n",
       "      <td>1.159100e+10</td>\n",
       "      <td>51.0</td>\n",
       "      <td>1.085000e+09</td>\n",
       "      <td>0.0</td>\n",
       "      <td>6000000.0</td>\n",
       "      <td>1.109600e+10</td>\n",
       "      <td>73.0</td>\n",
       "      <td>2.477000e+09</td>\n",
       "      <td>667000000.0</td>\n",
       "      <td>1.487000e+09</td>\n",
       "      <td>5.496000e+09</td>\n",
       "      <td>4.616000e+09</td>\n",
       "      <td>0.0</td>\n",
       "      <td>0.0</td>\n",
       "      <td>2.751000e+10</td>\n",
       "      <td>4.091000e+09</td>\n",
       "      <td>73.0</td>\n",
       "      <td>2.989400e+10</td>\n",
       "      <td>-2.994000e+09</td>\n",
       "      <td>2.249000e+09</td>\n",
       "      <td>880000000.0</td>\n",
       "      <td>8.630000e+08</td>\n",
       "      <td>4.430000e+08</td>\n",
       "      <td>-6.330000e+08</td>\n",
       "      <td>1.833000e+10</td>\n",
       "      <td>0.0</td>\n",
       "      <td>0.0</td>\n",
       "      <td>0.0</td>\n",
       "      <td>2.856000e+09</td>\n",
       "      <td>-604000000.0</td>\n",
       "      <td>6.249000e+09</td>\n",
       "      <td>-1.259000e+09</td>\n",
       "      <td>-5.594000e+09</td>\n",
       "      <td>7.610000e+09</td>\n",
       "      <td>-2.662000e+09</td>\n",
       "      <td>7.610000e+09</td>\n",
       "      <td>7.610000e+09</td>\n",
       "      <td>1.425000e+09</td>\n",
       "      <td>1.051000e+09</td>\n",
       "      <td>6.204000e+09</td>\n",
       "      <td>15.0</td>\n",
       "      <td>2.103000e+09</td>\n",
       "      <td>7.480000e+08</td>\n",
       "      <td>6.272000e+09</td>\n",
       "      <td>-4.732000e+09</td>\n",
       "      <td>9.600000e+07</td>\n",
       "      <td>114000000.0</td>\n",
       "      <td>1.017800e+10</td>\n",
       "      <td>95000000.0</td>\n",
       "      <td>1.364000e+09</td>\n",
       "      <td>11.0</td>\n",
       "      <td>82.0</td>\n",
       "      <td>19.0</td>\n",
       "      <td>67.0</td>\n",
       "      <td>0.0</td>\n",
       "      <td>-1.230000e+09</td>\n",
       "      <td>-3.846000e+09</td>\n",
       "      <td>2.127500e+10</td>\n",
       "      <td>2.231000e+09</td>\n",
       "      <td>5.864000e+09</td>\n",
       "      <td>4.841500e+10</td>\n",
       "      <td>9.985000e+09</td>\n",
       "      <td>1.360500e+10</td>\n",
       "      <td>5.635000e+09</td>\n",
       "      <td>4.278000e+10</td>\n",
       "      <td>4.841500e+10</td>\n",
       "      <td>4.099000e+10</td>\n",
       "      <td>0.0</td>\n",
       "      <td>2015.0</td>\n",
       "      <td>11.39</td>\n",
       "      <td>6.681299e+08</td>\n",
       "    </tr>\n",
       "    <tr>\n",
       "      <th>4</th>\n",
       "      <td>4</td>\n",
       "      <td>AAP</td>\n",
       "      <td>2012-12-29</td>\n",
       "      <td>2.409453e+09</td>\n",
       "      <td>-89482000.0</td>\n",
       "      <td>6.000000e+05</td>\n",
       "      <td>32.0</td>\n",
       "      <td>-2.711820e+08</td>\n",
       "      <td>5.202150e+08</td>\n",
       "      <td>23.0</td>\n",
       "      <td>5.981110e+08</td>\n",
       "      <td>-260298000.0</td>\n",
       "      <td>7000.0</td>\n",
       "      <td>3.106967e+09</td>\n",
       "      <td>124.0</td>\n",
       "      <td>0.000000e+00</td>\n",
       "      <td>0.0</td>\n",
       "      <td>1.895440e+08</td>\n",
       "      <td>6.579150e+08</td>\n",
       "      <td>6.240740e+08</td>\n",
       "      <td>0.0</td>\n",
       "      <td>0.0</td>\n",
       "      <td>1.292547e+09</td>\n",
       "      <td>7.638900e+07</td>\n",
       "      <td>50.0</td>\n",
       "      <td>3.098036e+09</td>\n",
       "      <td>2.364040e+08</td>\n",
       "      <td>2.884500e+07</td>\n",
       "      <td>33841000.0</td>\n",
       "      <td>2.308609e+09</td>\n",
       "      <td>0.000000e+00</td>\n",
       "      <td>4.263230e+08</td>\n",
       "      <td>6.044610e+08</td>\n",
       "      <td>0.0</td>\n",
       "      <td>0.0</td>\n",
       "      <td>0.0</td>\n",
       "      <td>1.774450e+08</td>\n",
       "      <td>540210000.0</td>\n",
       "      <td>6.852810e+08</td>\n",
       "      <td>1.279070e+08</td>\n",
       "      <td>-2.729780e+08</td>\n",
       "      <td>3.876700e+08</td>\n",
       "      <td>2.331100e+07</td>\n",
       "      <td>3.876700e+08</td>\n",
       "      <td>3.876700e+08</td>\n",
       "      <td>2.298660e+08</td>\n",
       "      <td>0.000000e+00</td>\n",
       "      <td>6.573150e+08</td>\n",
       "      <td>11.0</td>\n",
       "      <td>3.183300e+07</td>\n",
       "      <td>4.761400e+07</td>\n",
       "      <td>1.495580e+08</td>\n",
       "      <td>2.667000e+06</td>\n",
       "      <td>-3.349900e+07</td>\n",
       "      <td>-1796000.0</td>\n",
       "      <td>2.390210e+08</td>\n",
       "      <td>8213000.0</td>\n",
       "      <td>0.000000e+00</td>\n",
       "      <td>10.0</td>\n",
       "      <td>52.0</td>\n",
       "      <td>6.0</td>\n",
       "      <td>34.0</td>\n",
       "      <td>0.0</td>\n",
       "      <td>7.149000e+08</td>\n",
       "      <td>-1.860000e+07</td>\n",
       "      <td>2.440721e+09</td>\n",
       "      <td>6.270000e+05</td>\n",
       "      <td>0.000000e+00</td>\n",
       "      <td>4.613814e+09</td>\n",
       "      <td>3.184200e+09</td>\n",
       "      <td>2.559638e+09</td>\n",
       "      <td>1.210694e+09</td>\n",
       "      <td>3.403120e+09</td>\n",
       "      <td>4.613814e+09</td>\n",
       "      <td>6.205003e+09</td>\n",
       "      <td>-27095000.0</td>\n",
       "      <td>2012.0</td>\n",
       "      <td>5.29</td>\n",
       "      <td>7.328355e+07</td>\n",
       "    </tr>\n",
       "  </tbody>\n",
       "</table>\n",
       "</div>"
      ],
      "text/plain": [
       "   Unnamed: 0             ...              Estimated Shares Outstanding\n",
       "0           0             ...                              3.350000e+08\n",
       "1           1             ...                              1.630222e+08\n",
       "2           2             ...                              7.169154e+08\n",
       "3           3             ...                              6.681299e+08\n",
       "4           4             ...                              7.328355e+07\n",
       "\n",
       "[5 rows x 79 columns]"
      ]
     },
     "execution_count": 3,
     "metadata": {},
     "output_type": "execute_result"
    }
   ],
   "source": [
    "df2 = pd.read_csv(\"../input/fundamentals.csv\")\n",
    "df2.head()"
   ]
  },
  {
   "cell_type": "markdown",
   "metadata": {
    "_uuid": "3c11e040c3ab738df846f38eb27d64537c497a1b"
   },
   "source": [
    "I am extracting the apple stocks only: AAPL"
   ]
  },
  {
   "cell_type": "code",
   "execution_count": 4,
   "metadata": {
    "_uuid": "30a9e8f016f0fff16e5cc1223a3e916176077120"
   },
   "outputs": [
    {
     "data": {
      "text/html": [
       "<div>\n",
       "<style scoped>\n",
       "    .dataframe tbody tr th:only-of-type {\n",
       "        vertical-align: middle;\n",
       "    }\n",
       "\n",
       "    .dataframe tbody tr th {\n",
       "        vertical-align: top;\n",
       "    }\n",
       "\n",
       "    .dataframe thead th {\n",
       "        text-align: right;\n",
       "    }\n",
       "</style>\n",
       "<table border=\"1\" class=\"dataframe\">\n",
       "  <thead>\n",
       "    <tr style=\"text-align: right;\">\n",
       "      <th></th>\n",
       "      <th>open</th>\n",
       "      <th>close</th>\n",
       "      <th>low</th>\n",
       "      <th>high</th>\n",
       "      <th>volume</th>\n",
       "    </tr>\n",
       "    <tr>\n",
       "      <th>date</th>\n",
       "      <th></th>\n",
       "      <th></th>\n",
       "      <th></th>\n",
       "      <th></th>\n",
       "      <th></th>\n",
       "    </tr>\n",
       "  </thead>\n",
       "  <tbody>\n",
       "    <tr>\n",
       "      <th>2010-01-04</th>\n",
       "      <td>30.490000</td>\n",
       "      <td>30.572857</td>\n",
       "      <td>30.340000</td>\n",
       "      <td>30.642857</td>\n",
       "      <td>123432400.0</td>\n",
       "    </tr>\n",
       "    <tr>\n",
       "      <th>2010-01-05</th>\n",
       "      <td>30.657143</td>\n",
       "      <td>30.625713</td>\n",
       "      <td>30.464285</td>\n",
       "      <td>30.798571</td>\n",
       "      <td>150476200.0</td>\n",
       "    </tr>\n",
       "    <tr>\n",
       "      <th>2010-01-06</th>\n",
       "      <td>30.625713</td>\n",
       "      <td>30.138571</td>\n",
       "      <td>30.107143</td>\n",
       "      <td>30.747143</td>\n",
       "      <td>138040000.0</td>\n",
       "    </tr>\n",
       "    <tr>\n",
       "      <th>2010-01-07</th>\n",
       "      <td>30.250000</td>\n",
       "      <td>30.082857</td>\n",
       "      <td>29.864286</td>\n",
       "      <td>30.285715</td>\n",
       "      <td>119282800.0</td>\n",
       "    </tr>\n",
       "    <tr>\n",
       "      <th>2010-01-08</th>\n",
       "      <td>30.042856</td>\n",
       "      <td>30.282858</td>\n",
       "      <td>29.865715</td>\n",
       "      <td>30.285715</td>\n",
       "      <td>111902700.0</td>\n",
       "    </tr>\n",
       "  </tbody>\n",
       "</table>\n",
       "</div>"
      ],
      "text/plain": [
       "                 open      close        low       high       volume\n",
       "date                                                               \n",
       "2010-01-04  30.490000  30.572857  30.340000  30.642857  123432400.0\n",
       "2010-01-05  30.657143  30.625713  30.464285  30.798571  150476200.0\n",
       "2010-01-06  30.625713  30.138571  30.107143  30.747143  138040000.0\n",
       "2010-01-07  30.250000  30.082857  29.864286  30.285715  119282800.0\n",
       "2010-01-08  30.042856  30.282858  29.865715  30.285715  111902700.0"
      ]
     },
     "execution_count": 4,
     "metadata": {},
     "output_type": "execute_result"
    }
   ],
   "source": [
    "data_df = data_df[data_df.symbol == 'AAPL']\n",
    "data_df.drop(['symbol'],1,inplace=True)\n",
    "data_df.head()"
   ]
  },
  {
   "cell_type": "code",
   "execution_count": 5,
   "metadata": {
    "_uuid": "5c0fd9cca138d6a2f2e685250e40bce62024533e"
   },
   "outputs": [
    {
     "data": {
      "text/plain": [
       "(1762, 5)"
      ]
     },
     "execution_count": 5,
     "metadata": {},
     "output_type": "execute_result"
    }
   ],
   "source": [
    "data_df.shape"
   ]
  },
  {
   "cell_type": "code",
   "execution_count": 6,
   "metadata": {
    "_uuid": "07c12f402fb3665e301b261047370ec649051fad"
   },
   "outputs": [
    {
     "data": {
      "text/html": [
       "<div>\n",
       "<style scoped>\n",
       "    .dataframe tbody tr th:only-of-type {\n",
       "        vertical-align: middle;\n",
       "    }\n",
       "\n",
       "    .dataframe tbody tr th {\n",
       "        vertical-align: top;\n",
       "    }\n",
       "\n",
       "    .dataframe thead th {\n",
       "        text-align: right;\n",
       "    }\n",
       "</style>\n",
       "<table border=\"1\" class=\"dataframe\">\n",
       "  <thead>\n",
       "    <tr style=\"text-align: right;\">\n",
       "      <th></th>\n",
       "      <th>open</th>\n",
       "      <th>close</th>\n",
       "      <th>low</th>\n",
       "      <th>high</th>\n",
       "      <th>volume</th>\n",
       "    </tr>\n",
       "    <tr>\n",
       "      <th>date</th>\n",
       "      <th></th>\n",
       "      <th></th>\n",
       "      <th></th>\n",
       "      <th></th>\n",
       "      <th></th>\n",
       "    </tr>\n",
       "  </thead>\n",
       "  <tbody>\n",
       "    <tr>\n",
       "      <th>2016-12-23</th>\n",
       "      <td>115.589996</td>\n",
       "      <td>116.519997</td>\n",
       "      <td>115.589996</td>\n",
       "      <td>116.519997</td>\n",
       "      <td>14249500.0</td>\n",
       "    </tr>\n",
       "    <tr>\n",
       "      <th>2016-12-27</th>\n",
       "      <td>116.519997</td>\n",
       "      <td>117.260002</td>\n",
       "      <td>116.489998</td>\n",
       "      <td>117.800003</td>\n",
       "      <td>18296900.0</td>\n",
       "    </tr>\n",
       "    <tr>\n",
       "      <th>2016-12-28</th>\n",
       "      <td>117.519997</td>\n",
       "      <td>116.760002</td>\n",
       "      <td>116.199997</td>\n",
       "      <td>118.019997</td>\n",
       "      <td>20905900.0</td>\n",
       "    </tr>\n",
       "    <tr>\n",
       "      <th>2016-12-29</th>\n",
       "      <td>116.449997</td>\n",
       "      <td>116.730003</td>\n",
       "      <td>116.400002</td>\n",
       "      <td>117.110001</td>\n",
       "      <td>15039500.0</td>\n",
       "    </tr>\n",
       "    <tr>\n",
       "      <th>2016-12-30</th>\n",
       "      <td>116.650002</td>\n",
       "      <td>115.820000</td>\n",
       "      <td>115.430000</td>\n",
       "      <td>117.199997</td>\n",
       "      <td>30586300.0</td>\n",
       "    </tr>\n",
       "  </tbody>\n",
       "</table>\n",
       "</div>"
      ],
      "text/plain": [
       "                  open       close     ...            high      volume\n",
       "date                                   ...                            \n",
       "2016-12-23  115.589996  116.519997     ...      116.519997  14249500.0\n",
       "2016-12-27  116.519997  117.260002     ...      117.800003  18296900.0\n",
       "2016-12-28  117.519997  116.760002     ...      118.019997  20905900.0\n",
       "2016-12-29  116.449997  116.730003     ...      117.110001  15039500.0\n",
       "2016-12-30  116.650002  115.820000     ...      117.199997  30586300.0\n",
       "\n",
       "[5 rows x 5 columns]"
      ]
     },
     "execution_count": 6,
     "metadata": {},
     "output_type": "execute_result"
    }
   ],
   "source": [
    "data_df.tail()"
   ]
  },
  {
   "cell_type": "code",
   "execution_count": 7,
   "metadata": {
    "_uuid": "f33002b25a435462d40a85f23e633928512317fc"
   },
   "outputs": [
    {
     "data": {
      "image/png": "[encoded data removed]",
      "text/plain": [
       "<Figure size 432x288 with 1 Axes>"
      ]
     },
     "metadata": {},
     "output_type": "display_data"
    }
   ],
   "source": [
    "plt.plot(data_df['close'])\n",
    "plt.show()"
   ]
  },
  {
   "cell_type": "code",
   "execution_count": 8,
   "metadata": {
    "_uuid": "04398b0df33164535ffda6dd7ccb1a84fa13bee8"
   },
   "outputs": [
    {
     "data": {
      "text/html": [
       "<div>\n",
       "<style scoped>\n",
       "    .dataframe tbody tr th:only-of-type {\n",
       "        vertical-align: middle;\n",
       "    }\n",
       "\n",
       "    .dataframe tbody tr th {\n",
       "        vertical-align: top;\n",
       "    }\n",
       "\n",
       "    .dataframe thead th {\n",
       "        text-align: right;\n",
       "    }\n",
       "</style>\n",
       "<table border=\"1\" class=\"dataframe\">\n",
       "  <thead>\n",
       "    <tr style=\"text-align: right;\">\n",
       "      <th></th>\n",
       "      <th>open</th>\n",
       "      <th>close</th>\n",
       "      <th>low</th>\n",
       "      <th>high</th>\n",
       "      <th>volume</th>\n",
       "      <th>date</th>\n",
       "    </tr>\n",
       "    <tr>\n",
       "      <th>date</th>\n",
       "      <th></th>\n",
       "      <th></th>\n",
       "      <th></th>\n",
       "      <th></th>\n",
       "      <th></th>\n",
       "      <th></th>\n",
       "    </tr>\n",
       "  </thead>\n",
       "  <tbody>\n",
       "    <tr>\n",
       "      <th>2010-01-04</th>\n",
       "      <td>30.490000</td>\n",
       "      <td>30.572857</td>\n",
       "      <td>30.340000</td>\n",
       "      <td>30.642857</td>\n",
       "      <td>123432400.0</td>\n",
       "      <td>2010-01-04</td>\n",
       "    </tr>\n",
       "    <tr>\n",
       "      <th>2010-01-05</th>\n",
       "      <td>30.657143</td>\n",
       "      <td>30.625713</td>\n",
       "      <td>30.464285</td>\n",
       "      <td>30.798571</td>\n",
       "      <td>150476200.0</td>\n",
       "      <td>2010-01-05</td>\n",
       "    </tr>\n",
       "    <tr>\n",
       "      <th>2010-01-06</th>\n",
       "      <td>30.625713</td>\n",
       "      <td>30.138571</td>\n",
       "      <td>30.107143</td>\n",
       "      <td>30.747143</td>\n",
       "      <td>138040000.0</td>\n",
       "      <td>2010-01-06</td>\n",
       "    </tr>\n",
       "    <tr>\n",
       "      <th>2010-01-07</th>\n",
       "      <td>30.250000</td>\n",
       "      <td>30.082857</td>\n",
       "      <td>29.864286</td>\n",
       "      <td>30.285715</td>\n",
       "      <td>119282800.0</td>\n",
       "      <td>2010-01-07</td>\n",
       "    </tr>\n",
       "    <tr>\n",
       "      <th>2010-01-08</th>\n",
       "      <td>30.042856</td>\n",
       "      <td>30.282858</td>\n",
       "      <td>29.865715</td>\n",
       "      <td>30.285715</td>\n",
       "      <td>111902700.0</td>\n",
       "      <td>2010-01-08</td>\n",
       "    </tr>\n",
       "  </tbody>\n",
       "</table>\n",
       "</div>"
      ],
      "text/plain": [
       "                 open      close     ...           volume        date\n",
       "date                                 ...                             \n",
       "2010-01-04  30.490000  30.572857     ...      123432400.0  2010-01-04\n",
       "2010-01-05  30.657143  30.625713     ...      150476200.0  2010-01-05\n",
       "2010-01-06  30.625713  30.138571     ...      138040000.0  2010-01-06\n",
       "2010-01-07  30.250000  30.082857     ...      119282800.0  2010-01-07\n",
       "2010-01-08  30.042856  30.282858     ...      111902700.0  2010-01-08\n",
       "\n",
       "[5 rows x 6 columns]"
      ]
     },
     "execution_count": 8,
     "metadata": {},
     "output_type": "execute_result"
    }
   ],
   "source": [
    "data_df['date'] = data_df.index\n",
    "data_df.head()"
   ]
  },
  {
   "cell_type": "code",
   "execution_count": 9,
   "metadata": {
    "_uuid": "2733fda3dce158e296264da65e2d8ca34fffbf55"
   },
   "outputs": [],
   "source": [
    "data_df['date'] = pd.to_datetime(data_df['date'])"
   ]
  },
  {
   "cell_type": "code",
   "execution_count": 10,
   "metadata": {
    "_uuid": "0d470c8e6fa660b3b8dad878a8d4a0c04bfa9f71"
   },
   "outputs": [
    {
     "data": {
      "text/html": [
       "<div>\n",
       "<style scoped>\n",
       "    .dataframe tbody tr th:only-of-type {\n",
       "        vertical-align: middle;\n",
       "    }\n",
       "\n",
       "    .dataframe tbody tr th {\n",
       "        vertical-align: top;\n",
       "    }\n",
       "\n",
       "    .dataframe thead th {\n",
       "        text-align: right;\n",
       "    }\n",
       "</style>\n",
       "<table border=\"1\" class=\"dataframe\">\n",
       "  <thead>\n",
       "    <tr style=\"text-align: right;\">\n",
       "      <th></th>\n",
       "      <th>open</th>\n",
       "      <th>close</th>\n",
       "      <th>low</th>\n",
       "      <th>high</th>\n",
       "      <th>volume</th>\n",
       "      <th>date</th>\n",
       "    </tr>\n",
       "    <tr>\n",
       "      <th>date</th>\n",
       "      <th></th>\n",
       "      <th></th>\n",
       "      <th></th>\n",
       "      <th></th>\n",
       "      <th></th>\n",
       "      <th></th>\n",
       "    </tr>\n",
       "  </thead>\n",
       "  <tbody>\n",
       "    <tr>\n",
       "      <th>2010-01-04</th>\n",
       "      <td>30.490000</td>\n",
       "      <td>30.572857</td>\n",
       "      <td>30.340000</td>\n",
       "      <td>30.642857</td>\n",
       "      <td>123432400.0</td>\n",
       "      <td>2010-01-04</td>\n",
       "    </tr>\n",
       "    <tr>\n",
       "      <th>2010-01-05</th>\n",
       "      <td>30.657143</td>\n",
       "      <td>30.625713</td>\n",
       "      <td>30.464285</td>\n",
       "      <td>30.798571</td>\n",
       "      <td>150476200.0</td>\n",
       "      <td>2010-01-05</td>\n",
       "    </tr>\n",
       "    <tr>\n",
       "      <th>2010-01-06</th>\n",
       "      <td>30.625713</td>\n",
       "      <td>30.138571</td>\n",
       "      <td>30.107143</td>\n",
       "      <td>30.747143</td>\n",
       "      <td>138040000.0</td>\n",
       "      <td>2010-01-06</td>\n",
       "    </tr>\n",
       "    <tr>\n",
       "      <th>2010-01-07</th>\n",
       "      <td>30.250000</td>\n",
       "      <td>30.082857</td>\n",
       "      <td>29.864286</td>\n",
       "      <td>30.285715</td>\n",
       "      <td>119282800.0</td>\n",
       "      <td>2010-01-07</td>\n",
       "    </tr>\n",
       "    <tr>\n",
       "      <th>2010-01-08</th>\n",
       "      <td>30.042856</td>\n",
       "      <td>30.282858</td>\n",
       "      <td>29.865715</td>\n",
       "      <td>30.285715</td>\n",
       "      <td>111902700.0</td>\n",
       "      <td>2010-01-08</td>\n",
       "    </tr>\n",
       "  </tbody>\n",
       "</table>\n",
       "</div>"
      ],
      "text/plain": [
       "                 open      close    ...           volume       date\n",
       "date                                ...                            \n",
       "2010-01-04  30.490000  30.572857    ...      123432400.0 2010-01-04\n",
       "2010-01-05  30.657143  30.625713    ...      150476200.0 2010-01-05\n",
       "2010-01-06  30.625713  30.138571    ...      138040000.0 2010-01-06\n",
       "2010-01-07  30.250000  30.082857    ...      119282800.0 2010-01-07\n",
       "2010-01-08  30.042856  30.282858    ...      111902700.0 2010-01-08\n",
       "\n",
       "[5 rows x 6 columns]"
      ]
     },
     "execution_count": 10,
     "metadata": {},
     "output_type": "execute_result"
    }
   ],
   "source": [
    "data_df.head()"
   ]
  },
  {
   "cell_type": "markdown",
   "metadata": {
    "_uuid": "a2de7ca765456476e28f9ab2b6ccbdd21a2c232e"
   },
   "source": [
    "> LSTMs are sensitive to the scale of the input data, specifically when the sigmoid (default) or tanh activation functions are used. It can be a good practice to rescale the data to the range of 0-to-1, also called normalizing. "
   ]
  },
  {
   "cell_type": "code",
   "execution_count": 11,
   "metadata": {
    "_uuid": "6c4467ccf683815c8c1c9854e7f9dde7a93c1ff9"
   },
   "outputs": [],
   "source": [
    "min_max_scaler = preprocessing.MinMaxScaler(feature_range=(0, 1))\n",
    "dataset = min_max_scaler.fit_transform(data_df['close'].values.reshape(-1, 1))"
   ]
  },
  {
   "cell_type": "code",
   "execution_count": 12,
   "metadata": {
    "_uuid": "2cdc2d0f0bf9bd849154f6bae2e2affcf7042df2"
   },
   "outputs": [
    {
     "data": {
      "text/plain": [
       "array([[0.02971784],\n",
       "       [0.03021854],\n",
       "       [0.02560389],\n",
       "       [0.02507612],\n",
       "       [0.0269707 ],\n",
       "       [0.02444008],\n",
       "       [0.02120576],\n",
       "       [0.02517085],\n",
       "       [0.02351986],\n",
       "       [0.0187834 ]])"
      ]
     },
     "execution_count": 12,
     "metadata": {},
     "output_type": "execute_result"
    }
   ],
   "source": [
    "dataset[0:10]"
   ]
  },
  {
   "cell_type": "code",
   "execution_count": 13,
   "metadata": {
    "_uuid": "ed19f2e090bc572e88689259268b5c2d6fb4dd77"
   },
   "outputs": [
    {
     "name": "stdout",
     "output_type": "stream",
     "text": [
      "1233 529\n"
     ]
    }
   ],
   "source": [
    "# split into train and test sets\n",
    "train_size = int(len(dataset) * 0.7)\n",
    "test_size = len(dataset) - train_size\n",
    "train, test = dataset[0:train_size,:], dataset[train_size:len(dataset),:]\n",
    "print(len(train), len(test))"
   ]
  },
  {
   "cell_type": "code",
   "execution_count": 14,
   "metadata": {
    "_uuid": "b518b503213f8779050ff9641d6155c18a50c39a"
   },
   "outputs": [
    {
     "name": "stdout",
     "output_type": "stream",
     "text": [
      "1762\n",
      "1762\n"
     ]
    }
   ],
   "source": [
    "print(len(data_df))\n",
    "print(1233 + 529)"
   ]
  },
  {
   "cell_type": "markdown",
   "metadata": {
    "_uuid": "880eba47d20b5e86e3289301ec70c3c42f8fbc61"
   },
   "source": [
    "I set the look back date as 15 days, which is the number of previous time steps to use as input variables to predict the next time period"
   ]
  },
  {
   "cell_type": "code",
   "execution_count": 15,
   "metadata": {
    "_uuid": "7b6b6088e81a10df71f2cba199833bf8c536ef49"
   },
   "outputs": [],
   "source": [
    "# convert an array of values into a dataset matrix\n",
    "def create_dataset(dataset, look_back=15):\n",
    "    dataX, dataY = [], []\n",
    "    for i in range(len(dataset)-look_back-1):\n",
    "        a = dataset[i:(i+look_back), 0]\n",
    "        dataX.append(a)\n",
    "        dataY.append(dataset[i + look_back, 0])\n",
    "    return np.array(dataX), np.array(dataY)"
   ]
  },
  {
   "cell_type": "code",
   "execution_count": 16,
   "metadata": {
    "_uuid": "dbbd295863fcd0f9f968e32b2112bc1993be4170"
   },
   "outputs": [],
   "source": [
    "x_train, y_train = create_dataset(train, look_back=15)\n",
    "x_test, y_test = create_dataset(test, look_back=15)"
   ]
  },
  {
   "cell_type": "code",
   "execution_count": 17,
   "metadata": {
    "_uuid": "286f91632921a0bd9c22f3c59a63ece054bcf2ee"
   },
   "outputs": [
    {
     "name": "stdout",
     "output_type": "stream",
     "text": [
      "(1217, 15)\n",
      "(1217,)\n",
      "(513, 15)\n",
      "(513,)\n"
     ]
    }
   ],
   "source": [
    "print(x_train.shape)\n",
    "print(y_train.shape)\n",
    "print(x_test.shape)\n",
    "print(y_test.shape)"
   ]
  },
  {
   "cell_type": "markdown",
   "metadata": {
    "_uuid": "19abce0c37dc0a4895726d35dab6bf43b1e51000"
   },
   "source": [
    "The LSTM network expects the input data (X) to be provided with a specific array structure in the form of: [samples, time steps, features].\n",
    "\n",
    "Currently, this data is in the form: [samples, features] and we are framing the problem as one time step for each sample. We can transform the prepared train and test input data into the expected structure using numpy.reshape() as follows:"
   ]
  },
  {
   "cell_type": "code",
   "execution_count": 18,
   "metadata": {
    "_uuid": "4ad0f313531b89e9493c927437f27366f0ebfa72"
   },
   "outputs": [],
   "source": [
    "x_train = np.reshape(x_train, (x_train.shape[0], 1, x_train.shape[1]))\n",
    "x_test = np.reshape(x_test, (x_test.shape[0], 1, x_test.shape[1]))"
   ]
  },
  {
   "cell_type": "code",
   "execution_count": 19,
   "metadata": {
    "_uuid": "c1c04ae0f2d7c6d47eceed575723a987856cdbec"
   },
   "outputs": [
    {
     "name": "stdout",
     "output_type": "stream",
     "text": [
      "(1217, 1, 15)\n",
      "(1217,)\n",
      "(513, 1, 15)\n",
      "(513,)\n"
     ]
    }
   ],
   "source": [
    "print(x_train.shape)\n",
    "print(y_train.shape)\n",
    "print(x_test.shape)\n",
    "print(y_test.shape)"
   ]
  },
  {
   "cell_type": "markdown",
   "metadata": {
    "_uuid": "4cdfaa032f4b90bad561ccf68154edac41e9ea38"
   },
   "source": [
    "**LSTM**\n",
    "\n",
    "The Long Short-Term Memory network, or LSTM network, is a recurrent neural network that is trained using Backpropagation Through Time and overcomes the vanishing gradient problem.\n",
    "\n",
    "As such, it can be used to create large recurrent networks that in turn can be used to address difficult sequence problems in machine learning and achieve state-of-the-art results.\n",
    "\n",
    "Instead of neurons, LSTM networks have memory blocks that are connected through layers.\n",
    "\n",
    "A block has components that make it smarter than a classical neuron and a memory for recent sequences. A block contains gates that manage the block’s state and output. A block operates upon an input sequence and each gate within a block uses the sigmoid activation units to control whether they are triggered or not, making the change of state and addition of information flowing through the block conditional.\n",
    "\n",
    "There are three types of gates within a unit:\n",
    "\n",
    "* Forget Gate: conditionally decides what information to throw away from the block.\n",
    "* Input Gate: conditionally decides which values from the input to update the memory state.\n",
    "* Output Gate: conditionally decides what to output based on input and the memory of the block.\n",
    "\n",
    "Each unit is like a mini-state machine where the gates of the units have weights that are learned during the training procedure."
   ]
  },
  {
   "cell_type": "markdown",
   "metadata": {
    "_uuid": "9ee83c4cdfa51b58aff9fe28f43e552c1ecda9b0"
   },
   "source": [
    ">The network has a visible layer with 1 input, a hidden layer with 20 LSTM blocks or neurons, and an output layer that makes a 15 value prediction. The default sigmoid activation function is used for the LSTM blocks. The network is trained for 20 epochs and a batch size of 1 is used."
   ]
  },
  {
   "cell_type": "code",
   "execution_count": 20,
   "metadata": {
    "_uuid": "1962317674b834ebd54be16699a08bb9639c7df6"
   },
   "outputs": [
    {
     "name": "stdout",
     "output_type": "stream",
     "text": [
      "Epoch 1/20\n",
      " - 9s - loss: 0.0025\n",
      "Epoch 2/20\n",
      " - 8s - loss: 5.7900e-04\n",
      "Epoch 3/20\n",
      " - 8s - loss: 4.4811e-04\n",
      "Epoch 4/20\n",
      " - 8s - loss: 3.8554e-04\n",
      "Epoch 5/20\n",
      " - 8s - loss: 3.5934e-04\n",
      "Epoch 6/20\n",
      " - 8s - loss: 3.4425e-04\n",
      "Epoch 7/20\n",
      " - 8s - loss: 3.3990e-04\n",
      "Epoch 8/20\n",
      " - 8s - loss: 2.9196e-04\n",
      "Epoch 9/20\n",
      " - 8s - loss: 2.9474e-04\n",
      "Epoch 10/20\n",
      " - 8s - loss: 2.6881e-04\n",
      "Epoch 11/20\n",
      " - 8s - loss: 2.8864e-04\n",
      "Epoch 12/20\n",
      " - 8s - loss: 2.8338e-04\n",
      "Epoch 13/20\n",
      " - 8s - loss: 2.6375e-04\n",
      "Epoch 14/20\n",
      " - 8s - loss: 2.7269e-04\n",
      "Epoch 15/20\n",
      " - 8s - loss: 2.3640e-04\n",
      "Epoch 16/20\n",
      " - 8s - loss: 2.4269e-04\n",
      "Epoch 17/20\n",
      " - 8s - loss: 2.1706e-04\n",
      "Epoch 18/20\n",
      " - 8s - loss: 2.2666e-04\n",
      "Epoch 19/20\n",
      " - 8s - loss: 2.2937e-04\n",
      "Epoch 20/20\n",
      " - 8s - loss: 2.1948e-04\n"
     ]
    },
    {
     "data": {
      "text/plain": [
       "<keras.callbacks.History at 0x7fa0f6d4e908>"
      ]
     },
     "execution_count": 20,
     "metadata": {},
     "output_type": "execute_result"
    }
   ],
   "source": [
    "# create and fit the LSTM network\n",
    "look_back = 15\n",
    "model = Sequential()\n",
    "model.add(LSTM(20, input_shape=(1, look_back)))\n",
    "model.add(Dense(1))\n",
    "model.compile(loss='mean_squared_error', optimizer='adam')\n",
    "model.fit(x_train, y_train, epochs=20, batch_size=1, verbose=2)"
   ]
  },
  {
   "cell_type": "code",
   "execution_count": 21,
   "metadata": {
    "_uuid": "444cd8a5403b8f7375578f217ea899746740cb8a"
   },
   "outputs": [
    {
     "name": "stdout",
     "output_type": "stream",
     "text": [
      "Train Score: 1.69 RMSE\n",
      "Test Score: 2.92 RMSE\n"
     ]
    }
   ],
   "source": [
    "trainPredict = model.predict(x_train)\n",
    "testPredict = model.predict(x_test)\n",
    "# invert predictions\n",
    "trainPredict = min_max_scaler.inverse_transform(trainPredict)\n",
    "trainY = min_max_scaler.inverse_transform([y_train])\n",
    "testPredict = min_max_scaler.inverse_transform(testPredict)\n",
    "testY = min_max_scaler.inverse_transform([y_test])\n",
    "# calculate root mean squared error\n",
    "trainScore = math.sqrt(mean_squared_error(trainY[0], trainPredict[:,0]))\n",
    "print('Train Score: %.2f RMSE' % (trainScore))\n",
    "testScore = math.sqrt(mean_squared_error(testY[0], testPredict[:,0]))\n",
    "print('Test Score: %.2f RMSE' % (testScore))"
   ]
  },
  {
   "cell_type": "code",
   "execution_count": 22,
   "metadata": {
    "_uuid": "9504013c6479db5f1e18ed091eafc1d84454338a"
   },
   "outputs": [
    {
     "data": {
      "image/png": "[encoded data removed]",
      "text/plain": [
       "<Figure size 432x288 with 1 Axes>"
      ]
     },
     "metadata": {},
     "output_type": "display_data"
    }
   ],
   "source": [
    "# shift train predictions for plotting\n",
    "trainPredictPlot = np.empty_like(dataset)\n",
    "trainPredictPlot[:, :] = np.nan\n",
    "trainPredictPlot[look_back:len(trainPredict)+look_back, :] = trainPredict\n",
    "# shift test predictions for plotting\n",
    "testPredictPlot = np.empty_like(dataset)\n",
    "testPredictPlot[:, :] = np.nan\n",
    "testPredictPlot[len(trainPredict)+(look_back*2)+1:len(dataset)-1, :] = testPredict\n",
    "# plot baseline and predictions\n",
    "plt.plot(min_max_scaler.inverse_transform(dataset))\n",
    "plt.plot(trainPredictPlot)\n",
    "plt.plot(testPredictPlot)\n",
    "plt.show()"
   ]
  },
  {
   "cell_type": "markdown",
   "metadata": {
    "_uuid": "722793004b24b338a4827710f7023b78a8bdaa9a"
   },
   "source": [
    ">reference: https://machinelearningmastery.com/time-series-prediction-lstm-recurrent-neural-networks-python-keras/"
   ]
  }
 ],
 "metadata": {
  "kernelspec": {
   "display_name": "Python 3",
   "language": "python",
   "name": "python3"
  },
  "language_info": {
   "codemirror_mode": {
    "name": "ipython",
    "version": 3
   },
   "file_extension": ".py",
   "mimetype": "text/x-python",
   "name": "python",
   "nbconvert_exporter": "python",
   "pygments_lexer": "ipython3",
   "version": "3.9.1"
  },
  "vscode": {
   "interpreter": {
    "hash": "e8e86f11f8de651d2c5fce83c6190e2e2c0f42ae90d60e5c5b35a501d45892ca"
   }
  }
 },
 "nbformat": 4,
 "nbformat_minor": 1
}
